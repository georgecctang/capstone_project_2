{
 "cells": [
  {
   "cell_type": "markdown",
   "metadata": {},
   "source": [
    "# 4 Explratory Data Analysis"
   ]
  },
  {
   "cell_type": "code",
   "execution_count": null,
   "metadata": {},
   "outputs": [],
   "source": [
    "import numpy as np\n",
    "import pandas as pd\n",
    "import matplotlib\n",
    "import matplotlib.pyplot as plt\n",
    "import seaborn as sns\n",
    "import gc\n",
    "from datetime import datetime\n",
    "%matplotlib inline"
   ]
  },
  {
   "cell_type": "code",
   "execution_count": null,
   "metadata": {},
   "outputs": [],
   "source": [
    "data_folder = '../input/'\n",
    "figure_folder = '../final_report/figures/'"
   ]
  },
  {
   "cell_type": "code",
   "execution_count": null,
   "metadata": {},
   "outputs": [],
   "source": []
  },
  {
   "cell_type": "markdown",
   "metadata": {},
   "source": [
    "## 4.1 Store Information"
   ]
  },
  {
   "cell_type": "code",
   "execution_count": 3,
   "metadata": {},
   "outputs": [],
   "source": [
    "stores =pd.read_csv(data_folder + 'stores.csv',index_col='store_nbr')"
   ]
  },
  {
   "cell_type": "code",
   "execution_count": 5,
   "metadata": {},
   "outputs": [
    {
     "data": {
      "text/plain": [
       "(54, 4)"
      ]
     },
     "execution_count": 5,
     "metadata": {},
     "output_type": "execute_result"
    }
   ],
   "source": [
    "stores.shape"
   ]
  },
  {
   "cell_type": "code",
   "execution_count": 4,
   "metadata": {},
   "outputs": [
    {
     "data": {
      "text/html": [
       "<div>\n",
       "<style scoped>\n",
       "    .dataframe tbody tr th:only-of-type {\n",
       "        vertical-align: middle;\n",
       "    }\n",
       "\n",
       "    .dataframe tbody tr th {\n",
       "        vertical-align: top;\n",
       "    }\n",
       "\n",
       "    .dataframe thead th {\n",
       "        text-align: right;\n",
       "    }\n",
       "</style>\n",
       "<table border=\"1\" class=\"dataframe\">\n",
       "  <thead>\n",
       "    <tr style=\"text-align: right;\">\n",
       "      <th></th>\n",
       "      <th>city</th>\n",
       "      <th>state</th>\n",
       "      <th>type</th>\n",
       "      <th>cluster</th>\n",
       "    </tr>\n",
       "    <tr>\n",
       "      <th>store_nbr</th>\n",
       "      <th></th>\n",
       "      <th></th>\n",
       "      <th></th>\n",
       "      <th></th>\n",
       "    </tr>\n",
       "  </thead>\n",
       "  <tbody>\n",
       "    <tr>\n",
       "      <th>1</th>\n",
       "      <td>Quito</td>\n",
       "      <td>Pichincha</td>\n",
       "      <td>D</td>\n",
       "      <td>13</td>\n",
       "    </tr>\n",
       "    <tr>\n",
       "      <th>2</th>\n",
       "      <td>Quito</td>\n",
       "      <td>Pichincha</td>\n",
       "      <td>D</td>\n",
       "      <td>13</td>\n",
       "    </tr>\n",
       "    <tr>\n",
       "      <th>3</th>\n",
       "      <td>Quito</td>\n",
       "      <td>Pichincha</td>\n",
       "      <td>D</td>\n",
       "      <td>8</td>\n",
       "    </tr>\n",
       "    <tr>\n",
       "      <th>4</th>\n",
       "      <td>Quito</td>\n",
       "      <td>Pichincha</td>\n",
       "      <td>D</td>\n",
       "      <td>9</td>\n",
       "    </tr>\n",
       "    <tr>\n",
       "      <th>5</th>\n",
       "      <td>Santo Domingo</td>\n",
       "      <td>Santo Domingo de los Tsachilas</td>\n",
       "      <td>D</td>\n",
       "      <td>4</td>\n",
       "    </tr>\n",
       "  </tbody>\n",
       "</table>\n",
       "</div>"
      ],
      "text/plain": [
       "                    city                           state type  cluster\n",
       "store_nbr                                                             \n",
       "1                  Quito                       Pichincha    D       13\n",
       "2                  Quito                       Pichincha    D       13\n",
       "3                  Quito                       Pichincha    D        8\n",
       "4                  Quito                       Pichincha    D        9\n",
       "5          Santo Domingo  Santo Domingo de los Tsachilas    D        4"
      ]
     },
     "execution_count": 4,
     "metadata": {},
     "output_type": "execute_result"
    }
   ],
   "source": [
    "stores.head()"
   ]
  },
  {
   "cell_type": "code",
   "execution_count": 6,
   "metadata": {},
   "outputs": [],
   "source": [
    "#Create dictionary with store number as key and type as value\n",
    "store_type_dict = {}\n",
    "for i,j in zip(stores.index, stores.type):\n",
    "    store_type_dict[i] = j"
   ]
  },
  {
   "cell_type": "code",
   "execution_count": 7,
   "metadata": {
    "scrolled": true
   },
   "outputs": [
    {
     "name": "stdout",
     "output_type": "stream",
     "text": [
      "number of states: 16\n",
      "number of cities: 22\n"
     ]
    }
   ],
   "source": [
    "print(f'number of states: {stores.state.nunique()}')\n",
    "print(f'number of cities: {stores.city.nunique()}')"
   ]
  },
  {
   "cell_type": "code",
   "execution_count": 13,
   "metadata": {},
   "outputs": [],
   "source": [
    "store_plot = stores.groupby([\"city\", \"type\"])['cluster'] \\\n",
    "    .size() \\\n",
    "    .rename(columns={'type': 'type_count'}) \\\n",
    "    .unstack(level=1) \\\n",
    "    .fillna(0)"
   ]
  },
  {
   "cell_type": "code",
   "execution_count": 10,
   "metadata": {},
   "outputs": [
    {
     "data": {
      "text/html": [
       "<div>\n",
       "<style scoped>\n",
       "    .dataframe tbody tr th:only-of-type {\n",
       "        vertical-align: middle;\n",
       "    }\n",
       "\n",
       "    .dataframe tbody tr th {\n",
       "        vertical-align: top;\n",
       "    }\n",
       "\n",
       "    .dataframe thead th {\n",
       "        text-align: right;\n",
       "    }\n",
       "</style>\n",
       "<table border=\"1\" class=\"dataframe\">\n",
       "  <thead>\n",
       "    <tr style=\"text-align: right;\">\n",
       "      <th>type</th>\n",
       "      <th>A</th>\n",
       "      <th>B</th>\n",
       "      <th>C</th>\n",
       "      <th>D</th>\n",
       "      <th>E</th>\n",
       "    </tr>\n",
       "    <tr>\n",
       "      <th>city</th>\n",
       "      <th></th>\n",
       "      <th></th>\n",
       "      <th></th>\n",
       "      <th></th>\n",
       "      <th></th>\n",
       "    </tr>\n",
       "  </thead>\n",
       "  <tbody>\n",
       "    <tr>\n",
       "      <th>Ambato</th>\n",
       "      <td>1.0</td>\n",
       "      <td>0.0</td>\n",
       "      <td>0.0</td>\n",
       "      <td>1.0</td>\n",
       "      <td>0.0</td>\n",
       "    </tr>\n",
       "    <tr>\n",
       "      <th>Babahoyo</th>\n",
       "      <td>0.0</td>\n",
       "      <td>1.0</td>\n",
       "      <td>0.0</td>\n",
       "      <td>0.0</td>\n",
       "      <td>0.0</td>\n",
       "    </tr>\n",
       "    <tr>\n",
       "      <th>Cayambe</th>\n",
       "      <td>0.0</td>\n",
       "      <td>1.0</td>\n",
       "      <td>0.0</td>\n",
       "      <td>0.0</td>\n",
       "      <td>0.0</td>\n",
       "    </tr>\n",
       "    <tr>\n",
       "      <th>Cuenca</th>\n",
       "      <td>0.0</td>\n",
       "      <td>1.0</td>\n",
       "      <td>0.0</td>\n",
       "      <td>2.0</td>\n",
       "      <td>0.0</td>\n",
       "    </tr>\n",
       "    <tr>\n",
       "      <th>Daule</th>\n",
       "      <td>0.0</td>\n",
       "      <td>0.0</td>\n",
       "      <td>0.0</td>\n",
       "      <td>1.0</td>\n",
       "      <td>0.0</td>\n",
       "    </tr>\n",
       "  </tbody>\n",
       "</table>\n",
       "</div>"
      ],
      "text/plain": [
       "type        A    B    C    D    E\n",
       "city                             \n",
       "Ambato    1.0  0.0  0.0  1.0  0.0\n",
       "Babahoyo  0.0  1.0  0.0  0.0  0.0\n",
       "Cayambe   0.0  1.0  0.0  0.0  0.0\n",
       "Cuenca    0.0  1.0  0.0  2.0  0.0\n",
       "Daule     0.0  0.0  0.0  1.0  0.0"
      ]
     },
     "execution_count": 10,
     "metadata": {},
     "output_type": "execute_result"
    }
   ],
   "source": [
    "store_plot.head()"
   ]
  },
  {
   "cell_type": "code",
   "execution_count": 14,
   "metadata": {},
   "outputs": [
    {
     "data": {
      "text/plain": [
       "9896"
      ]
     },
     "execution_count": 14,
     "metadata": {},
     "output_type": "execute_result"
    },
    {
     "data": {
      "image/png": "[encoded data removed]",
      "text/plain": [
       "<Figure size 576x288 with 1 Axes>"
      ]
     },
     "metadata": {
      "needs_background": "light"
     },
     "output_type": "display_data"
    }
   ],
   "source": [
    "store_plot.plot(kind=\"bar\", stacked=True, figsize=(8, 4))\n",
    "plt.legend(title='Type')\n",
    "plt.ylabel(\"count\")\n",
    "plt.yticks(np.arange(0, 20, 2.0))\n",
    "plt.title('(a)')\n",
    "plt.tight_layout()\n",
    "plt.savefig(figure_folder + 'city_store.png');\n",
    "\n",
    "del store_plot; gc.collect()"
   ]
  },
  {
   "cell_type": "code",
   "execution_count": 16,
   "metadata": {},
   "outputs": [
    {
     "data": {
      "image/png": "[encoded data removed]",
      "text/plain": [
       "<Figure size 360x288 with 1 Axes>"
      ]
     },
     "metadata": {
      "needs_background": "light"
     },
     "output_type": "display_data"
    }
   ],
   "source": [
    "plt.figure(figsize=(5,4))\n",
    "type_order = np.sort(stores.type.unique())\n",
    "sns.countplot(data=stores,x = 'type',order=type_order)\n",
    "plt.title('(b)')\n",
    "plt.tight_layout()\n",
    "plt.yticks(np.arange(0, 20, 2.0))\n",
    "plt.savefig(figure_folder + '/store_type.png');"
   ]
  },
  {
   "cell_type": "code",
   "execution_count": 18,
   "metadata": {},
   "outputs": [
    {
     "data": {
      "text/plain": [
       "8241"
      ]
     },
     "execution_count": 18,
     "metadata": {},
     "output_type": "execute_result"
    },
    {
     "data": {
      "image/png": "[encoded data removed]",
      "text/plain": [
       "<Figure size 576x288 with 1 Axes>"
      ]
     },
     "metadata": {
      "needs_background": "light"
     },
     "output_type": "display_data"
    }
   ],
   "source": [
    "cluster_plot = stores.groupby([\"cluster\", \"type\"])['city'] \\\n",
    "    .size() \\\n",
    "    .rename(columns={'type': 'type_count'}) \\\n",
    "    .unstack(level=1) \\\n",
    "    .fillna(0)\n",
    "cluster_plot.plot(kind=\"bar\", stacked=True, figsize=(8, 4))\n",
    "plt.legend(title='Type')\n",
    "plt.ylabel(\"Count\")\n",
    "plt.tight_layout()\n",
    "plt.savefig(figure_folder + '/store_cluster.png');\n",
    "\n",
    "del cluster_plot; gc.collect()"
   ]
  },
  {
   "cell_type": "markdown",
   "metadata": {},
   "source": [
    "## 4.2 Item Information"
   ]
  },
  {
   "cell_type": "code",
   "execution_count": 19,
   "metadata": {},
   "outputs": [],
   "source": [
    "items = pd.read_csv(data_folder + 'items.csv', index_col='item_nbr')"
   ]
  },
  {
   "cell_type": "code",
   "execution_count": 20,
   "metadata": {},
   "outputs": [
    {
     "data": {
      "text/html": [
       "<div>\n",
       "<style scoped>\n",
       "    .dataframe tbody tr th:only-of-type {\n",
       "        vertical-align: middle;\n",
       "    }\n",
       "\n",
       "    .dataframe tbody tr th {\n",
       "        vertical-align: top;\n",
       "    }\n",
       "\n",
       "    .dataframe thead th {\n",
       "        text-align: right;\n",
       "    }\n",
       "</style>\n",
       "<table border=\"1\" class=\"dataframe\">\n",
       "  <thead>\n",
       "    <tr style=\"text-align: right;\">\n",
       "      <th></th>\n",
       "      <th>family</th>\n",
       "      <th>class</th>\n",
       "      <th>perishable</th>\n",
       "    </tr>\n",
       "    <tr>\n",
       "      <th>item_nbr</th>\n",
       "      <th></th>\n",
       "      <th></th>\n",
       "      <th></th>\n",
       "    </tr>\n",
       "  </thead>\n",
       "  <tbody>\n",
       "    <tr>\n",
       "      <th>96995</th>\n",
       "      <td>GROCERY I</td>\n",
       "      <td>1093</td>\n",
       "      <td>0</td>\n",
       "    </tr>\n",
       "    <tr>\n",
       "      <th>99197</th>\n",
       "      <td>GROCERY I</td>\n",
       "      <td>1067</td>\n",
       "      <td>0</td>\n",
       "    </tr>\n",
       "    <tr>\n",
       "      <th>103501</th>\n",
       "      <td>CLEANING</td>\n",
       "      <td>3008</td>\n",
       "      <td>0</td>\n",
       "    </tr>\n",
       "    <tr>\n",
       "      <th>103520</th>\n",
       "      <td>GROCERY I</td>\n",
       "      <td>1028</td>\n",
       "      <td>0</td>\n",
       "    </tr>\n",
       "    <tr>\n",
       "      <th>103665</th>\n",
       "      <td>BREAD/BAKERY</td>\n",
       "      <td>2712</td>\n",
       "      <td>1</td>\n",
       "    </tr>\n",
       "  </tbody>\n",
       "</table>\n",
       "</div>"
      ],
      "text/plain": [
       "                family  class  perishable\n",
       "item_nbr                                 \n",
       "96995        GROCERY I   1093           0\n",
       "99197        GROCERY I   1067           0\n",
       "103501        CLEANING   3008           0\n",
       "103520       GROCERY I   1028           0\n",
       "103665    BREAD/BAKERY   2712           1"
      ]
     },
     "execution_count": 20,
     "metadata": {},
     "output_type": "execute_result"
    }
   ],
   "source": [
    "items.head()"
   ]
  },
  {
   "cell_type": "code",
   "execution_count": 22,
   "metadata": {},
   "outputs": [
    {
     "data": {
      "image/png": "[encoded data removed]",
      "text/plain": [
       "<Figure size 720x360 with 1 Axes>"
      ]
     },
     "metadata": {
      "needs_background": "light"
     },
     "output_type": "display_data"
    }
   ],
   "source": [
    "plt.figure(figsize=(10,5))\n",
    "\n",
    "family_perishable_dict = {k:v for k,v in items.groupby('family')['perishable'].mean().iteritems()}\n",
    "family_list = np.sort(items.family.unique())\n",
    "color_map = {0:'royalblue',1:'orange'}\n",
    "family_color = [color_map[family_perishable_dict[family]] for family in family_list]\n",
    "\n",
    "sns.countplot(x=items.family,color='royalblue', order = family_list,palette=family_color)\n",
    "plt.xticks(rotation=90)\n",
    "\n",
    "legend_labels = ['Non-perishable','Perishable']\n",
    "legend_color = ['royalblue','orange']\n",
    "legend_patches = [matplotlib.patches.Patch(color=C, label=L) for\n",
    "              C, L in zip(legend_color, legend_labels)]\n",
    "plt.legend(loc = 'upper right', handles=legend_patches)\n",
    "\n",
    "plt.tight_layout()\n",
    "plt.savefig(figure_folder + 'items_family.png');"
   ]
  },
  {
   "cell_type": "code",
   "execution_count": 23,
   "metadata": {},
   "outputs": [],
   "source": [
    "#Create Item Family Dict for future Use\n",
    "item_family_dict = {k:v for k, v in items.family.iteritems()}"
   ]
  },
  {
   "cell_type": "markdown",
   "metadata": {},
   "source": [
    "## 4.3 Oil Price"
   ]
  },
  {
   "cell_type": "code",
   "execution_count": 24,
   "metadata": {},
   "outputs": [],
   "source": [
    "oil = pd.read_csv(data_folder + 'oil.csv',parse_dates = ['date']).set_index('date')"
   ]
  },
  {
   "cell_type": "code",
   "execution_count": 25,
   "metadata": {},
   "outputs": [],
   "source": [
    "begin_date = oil.index.min()\n",
    "end_date = oil.index.max()\n",
    "oil = oil.reindex(pd.date_range(begin_date, end_date), fill_value=np.nan)"
   ]
  },
  {
   "cell_type": "code",
   "execution_count": 26,
   "metadata": {},
   "outputs": [
    {
     "data": {
      "image/png": "[encoded data removed]",
      "text/plain": [
       "<Figure size 648x216 with 1 Axes>"
      ]
     },
     "metadata": {
      "needs_background": "light"
     },
     "output_type": "display_data"
    }
   ],
   "source": [
    "ax = oil.plot(figsize=(9,3))\n",
    "ax.set_ylim([0,120])\n",
    "ax.get_legend().remove()\n",
    "ax.set_ylabel('USD per barrel')\n",
    "plt.tight_layout()\n",
    "plt.savefig(figure_folder + 'oil.png');"
   ]
  },
  {
   "cell_type": "markdown",
   "metadata": {},
   "source": [
    "## 4.4 Holidays and Events"
   ]
  },
  {
   "cell_type": "code",
   "execution_count": 27,
   "metadata": {},
   "outputs": [],
   "source": [
    "holidays = pd.read_csv(data_folder + 'holidays_events.csv')"
   ]
  },
  {
   "cell_type": "code",
   "execution_count": 28,
   "metadata": {},
   "outputs": [],
   "source": [
    "holidays.date = pd.to_datetime(holidays.date)"
   ]
  },
  {
   "cell_type": "code",
   "execution_count": 31,
   "metadata": {},
   "outputs": [
    {
     "data": {
      "text/html": [
       "<div>\n",
       "<style scoped>\n",
       "    .dataframe tbody tr th:only-of-type {\n",
       "        vertical-align: middle;\n",
       "    }\n",
       "\n",
       "    .dataframe tbody tr th {\n",
       "        vertical-align: top;\n",
       "    }\n",
       "\n",
       "    .dataframe thead th {\n",
       "        text-align: right;\n",
       "    }\n",
       "</style>\n",
       "<table border=\"1\" class=\"dataframe\">\n",
       "  <thead>\n",
       "    <tr style=\"text-align: right;\">\n",
       "      <th></th>\n",
       "      <th>date</th>\n",
       "      <th>type</th>\n",
       "      <th>locale</th>\n",
       "      <th>locale_name</th>\n",
       "      <th>description</th>\n",
       "      <th>transferred</th>\n",
       "    </tr>\n",
       "  </thead>\n",
       "  <tbody>\n",
       "    <tr>\n",
       "      <th>267</th>\n",
       "      <td>2016-08-05</td>\n",
       "      <td>Holiday</td>\n",
       "      <td>Local</td>\n",
       "      <td>Esmeraldas</td>\n",
       "      <td>Fundacion de Esmeraldas</td>\n",
       "      <td>False</td>\n",
       "    </tr>\n",
       "    <tr>\n",
       "      <th>268</th>\n",
       "      <td>2016-08-10</td>\n",
       "      <td>Holiday</td>\n",
       "      <td>National</td>\n",
       "      <td>Ecuador</td>\n",
       "      <td>Primer Grito de Independencia</td>\n",
       "      <td>True</td>\n",
       "    </tr>\n",
       "    <tr>\n",
       "      <th>269</th>\n",
       "      <td>2016-08-12</td>\n",
       "      <td>Transfer</td>\n",
       "      <td>National</td>\n",
       "      <td>Ecuador</td>\n",
       "      <td>Traslado Primer Grito de Independencia</td>\n",
       "      <td>False</td>\n",
       "    </tr>\n",
       "    <tr>\n",
       "      <th>270</th>\n",
       "      <td>2016-08-15</td>\n",
       "      <td>Holiday</td>\n",
       "      <td>Local</td>\n",
       "      <td>Riobamba</td>\n",
       "      <td>Fundacion de Riobamba</td>\n",
       "      <td>False</td>\n",
       "    </tr>\n",
       "    <tr>\n",
       "      <th>271</th>\n",
       "      <td>2016-08-24</td>\n",
       "      <td>Holiday</td>\n",
       "      <td>Local</td>\n",
       "      <td>Ambato</td>\n",
       "      <td>Fundacion de Ambato</td>\n",
       "      <td>False</td>\n",
       "    </tr>\n",
       "  </tbody>\n",
       "</table>\n",
       "</div>"
      ],
      "text/plain": [
       "          date      type    locale locale_name  \\\n",
       "267 2016-08-05   Holiday     Local  Esmeraldas   \n",
       "268 2016-08-10   Holiday  National     Ecuador   \n",
       "269 2016-08-12  Transfer  National     Ecuador   \n",
       "270 2016-08-15   Holiday     Local    Riobamba   \n",
       "271 2016-08-24   Holiday     Local      Ambato   \n",
       "\n",
       "                                description  transferred  \n",
       "267                 Fundacion de Esmeraldas        False  \n",
       "268           Primer Grito de Independencia         True  \n",
       "269  Traslado Primer Grito de Independencia        False  \n",
       "270                   Fundacion de Riobamba        False  \n",
       "271                     Fundacion de Ambato        False  "
      ]
     },
     "execution_count": 31,
     "metadata": {},
     "output_type": "execute_result"
    }
   ],
   "source": [
    "# Explore holidays and events in August 2016\n",
    "date_filter = (holidays.date >='2016-08-01') & (holidays.date <= '2016-08-31')\n",
    "holidays[date_filter]"
   ]
  },
  {
   "cell_type": "code",
   "execution_count": null,
   "metadata": {},
   "outputs": [],
   "source": []
  },
  {
   "cell_type": "markdown",
   "metadata": {},
   "source": [
    "## 4.5 Sales Data"
   ]
  },
  {
   "cell_type": "code",
   "execution_count": 32,
   "metadata": {},
   "outputs": [
    {
     "name": "stderr",
     "output_type": "stream",
     "text": [
      "/opt/conda/envs/fastai/lib/python3.6/site-packages/IPython/core/interactiveshell.py:3020: DtypeWarning: Columns (5) have mixed types. Specify dtype option on import or set low_memory=False.\n",
      "  interactivity=interactivity, compiler=compiler, result=result)\n",
      "/opt/conda/envs/fastai/lib/python3.6/site-packages/numpy/lib/arraysetops.py:522: FutureWarning: elementwise comparison failed; returning scalar instead, but in the future will perform elementwise comparison\n",
      "  mask |= (ar1 == a)\n"
     ]
    }
   ],
   "source": [
    "train = pd.read_csv(data_folder + 'train.csv',parse_dates=['date'], \n",
    "                    dtype={'onpromotion':'bool'},index_col = 'id', na_values='NaN')"
   ]
  },
  {
   "cell_type": "code",
   "execution_count": null,
   "metadata": {},
   "outputs": [],
   "source": [
    "train.columns"
   ]
  },
  {
   "cell_type": "code",
   "execution_count": 33,
   "metadata": {},
   "outputs": [],
   "source": [
    "#save promotion data for store 45 in 2017 for promotion analysis\n",
    "date_filter = (train.date >= '2016-01-01')\n",
    "store_filter = (train.store_nbr == 45)\n",
    "promo_45_df = train[date_filter & store_filter][['date','item_nbr','onpromotion']]"
   ]
  },
  {
   "cell_type": "code",
   "execution_count": 34,
   "metadata": {},
   "outputs": [],
   "source": [
    "# save 2014/6 data for store #45 for World cup event data analysis\n",
    "date_filter = (train.date >= '2014-06-01') & (train.date <= '2014-06-30')\n",
    "store_filter = (train.store_nbr == 45)\n",
    "train_45_2014 = train[date_filter & store_filter][['date','item_nbr','unit_sales']]"
   ]
  },
  {
   "cell_type": "code",
   "execution_count": 35,
   "metadata": {},
   "outputs": [],
   "source": [
    "#limit data to 2016 and after\n",
    "date_filter = train.date >= '2016-01-01'\n",
    "train = train[date_filter]"
   ]
  },
  {
   "cell_type": "code",
   "execution_count": 36,
   "metadata": {},
   "outputs": [
    {
     "data": {
      "text/plain": [
       "19456"
      ]
     },
     "execution_count": 36,
     "metadata": {},
     "output_type": "execute_result"
    }
   ],
   "source": [
    "gc.collect()"
   ]
  },
  {
   "cell_type": "code",
   "execution_count": 37,
   "metadata": {},
   "outputs": [
    {
     "data": {
      "text/html": [
       "<div>\n",
       "<style scoped>\n",
       "    .dataframe tbody tr th:only-of-type {\n",
       "        vertical-align: middle;\n",
       "    }\n",
       "\n",
       "    .dataframe tbody tr th {\n",
       "        vertical-align: top;\n",
       "    }\n",
       "\n",
       "    .dataframe thead th {\n",
       "        text-align: right;\n",
       "    }\n",
       "</style>\n",
       "<table border=\"1\" class=\"dataframe\">\n",
       "  <thead>\n",
       "    <tr style=\"text-align: right;\">\n",
       "      <th></th>\n",
       "      <th>date</th>\n",
       "      <th>store_nbr</th>\n",
       "      <th>item_nbr</th>\n",
       "      <th>unit_sales</th>\n",
       "      <th>onpromotion</th>\n",
       "    </tr>\n",
       "    <tr>\n",
       "      <th>id</th>\n",
       "      <th></th>\n",
       "      <th></th>\n",
       "      <th></th>\n",
       "      <th></th>\n",
       "      <th></th>\n",
       "    </tr>\n",
       "  </thead>\n",
       "  <tbody>\n",
       "    <tr>\n",
       "      <th>66458908</th>\n",
       "      <td>2016-01-01</td>\n",
       "      <td>25</td>\n",
       "      <td>105574</td>\n",
       "      <td>12.0</td>\n",
       "      <td>False</td>\n",
       "    </tr>\n",
       "    <tr>\n",
       "      <th>66458909</th>\n",
       "      <td>2016-01-01</td>\n",
       "      <td>25</td>\n",
       "      <td>105575</td>\n",
       "      <td>9.0</td>\n",
       "      <td>False</td>\n",
       "    </tr>\n",
       "    <tr>\n",
       "      <th>66458910</th>\n",
       "      <td>2016-01-01</td>\n",
       "      <td>25</td>\n",
       "      <td>105857</td>\n",
       "      <td>3.0</td>\n",
       "      <td>False</td>\n",
       "    </tr>\n",
       "    <tr>\n",
       "      <th>66458911</th>\n",
       "      <td>2016-01-01</td>\n",
       "      <td>25</td>\n",
       "      <td>108634</td>\n",
       "      <td>3.0</td>\n",
       "      <td>False</td>\n",
       "    </tr>\n",
       "    <tr>\n",
       "      <th>66458912</th>\n",
       "      <td>2016-01-01</td>\n",
       "      <td>25</td>\n",
       "      <td>108701</td>\n",
       "      <td>2.0</td>\n",
       "      <td>True</td>\n",
       "    </tr>\n",
       "  </tbody>\n",
       "</table>\n",
       "</div>"
      ],
      "text/plain": [
       "               date  store_nbr  item_nbr  unit_sales onpromotion\n",
       "id                                                              \n",
       "66458908 2016-01-01         25    105574        12.0       False\n",
       "66458909 2016-01-01         25    105575         9.0       False\n",
       "66458910 2016-01-01         25    105857         3.0       False\n",
       "66458911 2016-01-01         25    108634         3.0       False\n",
       "66458912 2016-01-01         25    108701         2.0        True"
      ]
     },
     "execution_count": 37,
     "metadata": {},
     "output_type": "execute_result"
    }
   ],
   "source": [
    "train.head()"
   ]
  },
  {
   "cell_type": "code",
   "execution_count": 38,
   "metadata": {},
   "outputs": [],
   "source": [
    "# Fill in dates with 0 sales\n",
    "train = train.set_index(['store_nbr','item_nbr','date'])[['unit_sales']].unstack(level = -1).fillna(0)"
   ]
  },
  {
   "cell_type": "code",
   "execution_count": 39,
   "metadata": {},
   "outputs": [],
   "source": [
    "# stack the data so unit_sale is the only column\n",
    "train = train.stack()"
   ]
  },
  {
   "cell_type": "code",
   "execution_count": 40,
   "metadata": {},
   "outputs": [],
   "source": [
    "train.reset_index(inplace=True)"
   ]
  },
  {
   "cell_type": "code",
   "execution_count": 41,
   "metadata": {},
   "outputs": [],
   "source": [
    "# merge with items table for family information\n",
    "train = train.merge(items[['family']], on='item_nbr', right_index = True)\n",
    "# merge with items table for city information\n",
    "train = train.merge(stores[['city']], on='store_nbr', right_index = True)"
   ]
  },
  {
   "cell_type": "code",
   "execution_count": 43,
   "metadata": {},
   "outputs": [
    {
     "data": {
      "text/html": [
       "<div>\n",
       "<style scoped>\n",
       "    .dataframe tbody tr th:only-of-type {\n",
       "        vertical-align: middle;\n",
       "    }\n",
       "\n",
       "    .dataframe tbody tr th {\n",
       "        vertical-align: top;\n",
       "    }\n",
       "\n",
       "    .dataframe thead th {\n",
       "        text-align: right;\n",
       "    }\n",
       "</style>\n",
       "<table border=\"1\" class=\"dataframe\">\n",
       "  <thead>\n",
       "    <tr style=\"text-align: right;\">\n",
       "      <th></th>\n",
       "      <th>store_nbr</th>\n",
       "      <th>item_nbr</th>\n",
       "      <th>date</th>\n",
       "      <th>unit_sales</th>\n",
       "      <th>family</th>\n",
       "      <th>city</th>\n",
       "    </tr>\n",
       "  </thead>\n",
       "  <tbody>\n",
       "    <tr>\n",
       "      <th>0</th>\n",
       "      <td>1</td>\n",
       "      <td>96995</td>\n",
       "      <td>2016-01-01</td>\n",
       "      <td>0.0</td>\n",
       "      <td>GROCERY I</td>\n",
       "      <td>Quito</td>\n",
       "    </tr>\n",
       "    <tr>\n",
       "      <th>1</th>\n",
       "      <td>1</td>\n",
       "      <td>96995</td>\n",
       "      <td>2016-01-02</td>\n",
       "      <td>0.0</td>\n",
       "      <td>GROCERY I</td>\n",
       "      <td>Quito</td>\n",
       "    </tr>\n",
       "    <tr>\n",
       "      <th>2</th>\n",
       "      <td>1</td>\n",
       "      <td>96995</td>\n",
       "      <td>2016-01-03</td>\n",
       "      <td>0.0</td>\n",
       "      <td>GROCERY I</td>\n",
       "      <td>Quito</td>\n",
       "    </tr>\n",
       "    <tr>\n",
       "      <th>3</th>\n",
       "      <td>1</td>\n",
       "      <td>96995</td>\n",
       "      <td>2016-01-04</td>\n",
       "      <td>0.0</td>\n",
       "      <td>GROCERY I</td>\n",
       "      <td>Quito</td>\n",
       "    </tr>\n",
       "    <tr>\n",
       "      <th>4</th>\n",
       "      <td>1</td>\n",
       "      <td>96995</td>\n",
       "      <td>2016-01-05</td>\n",
       "      <td>0.0</td>\n",
       "      <td>GROCERY I</td>\n",
       "      <td>Quito</td>\n",
       "    </tr>\n",
       "  </tbody>\n",
       "</table>\n",
       "</div>"
      ],
      "text/plain": [
       "   store_nbr  item_nbr       date  unit_sales     family   city\n",
       "0          1     96995 2016-01-01         0.0  GROCERY I  Quito\n",
       "1          1     96995 2016-01-02         0.0  GROCERY I  Quito\n",
       "2          1     96995 2016-01-03         0.0  GROCERY I  Quito\n",
       "3          1     96995 2016-01-04         0.0  GROCERY I  Quito\n",
       "4          1     96995 2016-01-05         0.0  GROCERY I  Quito"
      ]
     },
     "execution_count": 43,
     "metadata": {},
     "output_type": "execute_result"
    }
   ],
   "source": [
    "train.head()"
   ]
  },
  {
   "cell_type": "markdown",
   "metadata": {},
   "source": [
    "### 4.5.1 Effect of Store Types"
   ]
  },
  {
   "cell_type": "code",
   "execution_count": 56,
   "metadata": {},
   "outputs": [],
   "source": [
    "def store_type_city_family_plot(family_var, fig_title, begin_date, city_var = None):\n",
    "    type_color_map = {'A':'royalblue','B':'orange','C':'green','D':'red','E':'purple'}\n",
    "\n",
    "    \n",
    "    family_filter = (train.family == family_var)\n",
    "    date_filter = (train.date >= begin_date)\n",
    "    \n",
    "    temp_df = pd.DataFrame(train[family_filter & date_filter].groupby('store_nbr')['unit_sales'].sum())\n",
    "    \n",
    "    type_color_list = list(stores['type'].map(type_color_map).values)\n",
    "    sns.barplot(data = temp_df.reset_index(), x ='store_nbr', y='unit_sales', palette = type_color_list)\n",
    "    plt.xlabel('Store Number')\n",
    "    plt.ylabel('Total Unit Sales')\n",
    "    plt.title(fig_title)\n",
    "    legend_labels = ['A','B','C','D',\"E\"]\n",
    "    legend_color = ['royalblue','orange','green','red','purple']\n",
    "    legend_patches = [matplotlib.patches.Patch(color=C, label=L) for\n",
    "                  C, L in zip(legend_color, legend_labels)]\n",
    "    plt.legend(loc = 'upper center', handles=legend_patches, title = 'Store Type', ncol=3);"
   ]
  },
  {
   "cell_type": "code",
   "execution_count": 57,
   "metadata": {},
   "outputs": [
    {
     "data": {
      "image/png": "[encoded data removed]",
      "text/plain": [
       "<Figure size 864x432 with 2 Axes>"
      ]
     },
     "metadata": {
      "needs_background": "light"
     },
     "output_type": "display_data"
    }
   ],
   "source": [
    "plt.figure(figsize=(12,6))\n",
    "plt.subplot(2,1,1)\n",
    "store_type_city_family_plot('GROCERY I', '(a) Family: GROCERY I', '2017-01-01')\n",
    "plt.subplot(2,1,2)\n",
    "store_type_city_family_plot('PRODUCE', '(b) Family: PRODUCE', '2017-01-01')\n",
    "plt.tight_layout()\n",
    "plt.savefig(figure_folder + 'store_type.png');"
   ]
  },
  {
   "cell_type": "markdown",
   "metadata": {},
   "source": [
    "### 4.5.2 Effect of Locations"
   ]
  },
  {
   "cell_type": "code",
   "execution_count": 58,
   "metadata": {},
   "outputs": [
    {
     "data": {
      "image/png": "[encoded data removed]",
      "text/plain": [
       "<Figure size 540x216 with 1 Axes>"
      ]
     },
     "metadata": {
      "needs_background": "light"
     },
     "output_type": "display_data"
    }
   ],
   "source": [
    "# Figure for Quito\n",
    "type_color_map = {'A':'blue','B':'orange','C':'green','D':'red','E':'purple'}\n",
    "family_var = 'GROCERY I'\n",
    "city_var = 'Quito'\n",
    "begin_date = '2017-01-01'\n",
    "\n",
    "family_filter = (train.family == family_var)\n",
    "date_filter = (train.date >= begin_date)\n",
    "city_filter = (train.city == city_var)\n",
    "\n",
    "temp_df = pd.DataFrame(train[family_filter & date_filter & city_filter].groupby('store_nbr')['unit_sales'].sum())\n",
    "\n",
    "type_color_list = list(stores[stores.city == city_var]['type'].map(type_color_map).values)\n",
    "\n",
    "plt.figure(figsize=(7.5,3))\n",
    "sns.barplot(data = temp_df.reset_index(), x ='store_nbr', y='unit_sales', palette = type_color_list)\n",
    "plt.xlabel('Store Number')\n",
    "plt.ylabel('Total Unit Sales')\n",
    "legend_labels = ['A','B','C','D']\n",
    "legend_color = ['blue','orange','green','red']\n",
    "legend_patches = [matplotlib.patches.Patch(color=C, label=L) for\n",
    "              C, L in zip(legend_color, legend_labels)]\n",
    "plt.title('(a) ' + city_var)\n",
    "plt.legend(loc = 'upper left', handles=legend_patches, title = 'Store Type', ncol=4)\n",
    "plt.ylim([0,3000000])\n",
    "plt.tight_layout()\n",
    "plt.savefig(figure_folder + 'store_type_quito.png');"
   ]
  },
  {
   "cell_type": "code",
   "execution_count": 59,
   "metadata": {},
   "outputs": [
    {
     "data": {
      "image/png": "[encoded data removed]",
      "text/plain": [
       "<Figure size 360x216 with 1 Axes>"
      ]
     },
     "metadata": {
      "needs_background": "light"
     },
     "output_type": "display_data"
    }
   ],
   "source": [
    "# Figure for Guayaquil\n",
    "type_color_map = {'A':'blue','B':'orange','C':'green','D':'red','E':'purple'}\n",
    "family_var = 'GROCERY I'\n",
    "city_var = 'Guayaquil'\n",
    "begin_date = '2017-01-01'\n",
    "\n",
    "family_filter = (train.family == family_var)\n",
    "date_filter = (train.date >= begin_date)\n",
    "city_filter = (train.city == city_var)\n",
    "\n",
    "temp_df = pd.DataFrame(train[family_filter & date_filter & city_filter].groupby('store_nbr')['unit_sales'].sum())\n",
    "\n",
    "type_color_list = list(stores[stores.city == city_var]['type'].map(type_color_map).values)\n",
    "\n",
    "plt.figure(figsize=(5,3))\n",
    "sns.barplot(data = temp_df.reset_index(), x ='store_nbr', y='unit_sales', palette = type_color_list)\n",
    "plt.xlabel('Store Number')\n",
    "plt.ylabel('Total Unit Sales')\n",
    "plt.ylim([0,3000000])\n",
    "legend_labels = ['A','B','C','D','E']\n",
    "legend_color = ['blue','orange','green','red','purple']\n",
    "legend_patches = [matplotlib.patches.Patch(color=C, label=L) for\n",
    "              C, L in zip(legend_color, legend_labels)]\n",
    "plt.title('(b) ' + city_var)\n",
    "plt.legend(loc = 'upper left', handles=legend_patches, title = 'Store Type', ncol=5)\n",
    "plt.tight_layout()\n",
    "plt.savefig(figure_folder + 'store_type_guayaquil.png');"
   ]
  },
  {
   "cell_type": "code",
   "execution_count": null,
   "metadata": {},
   "outputs": [],
   "source": []
  },
  {
   "cell_type": "markdown",
   "metadata": {},
   "source": [
    "### 4.5.3 Effect of Day of the Week"
   ]
  },
  {
   "cell_type": "code",
   "execution_count": 60,
   "metadata": {},
   "outputs": [],
   "source": [
    "store_list = [1,3,9,17,45,46]"
   ]
  },
  {
   "cell_type": "code",
   "execution_count": 61,
   "metadata": {},
   "outputs": [],
   "source": [
    "train.set_index(['store_nbr'],inplace=True)"
   ]
  },
  {
   "cell_type": "code",
   "execution_count": 62,
   "metadata": {},
   "outputs": [],
   "source": [
    "train = train.loc[store_list]"
   ]
  },
  {
   "cell_type": "code",
   "execution_count": 63,
   "metadata": {},
   "outputs": [
    {
     "data": {
      "text/plain": [
       "31444"
      ]
     },
     "execution_count": 63,
     "metadata": {},
     "output_type": "execute_result"
    }
   ],
   "source": [
    "gc.collect()"
   ]
  },
  {
   "cell_type": "code",
   "execution_count": 64,
   "metadata": {},
   "outputs": [],
   "source": [
    "train.reset_index(inplace=True)"
   ]
  },
  {
   "cell_type": "code",
   "execution_count": 65,
   "metadata": {},
   "outputs": [],
   "source": [
    "train['day_of_week'] = train.date.dt.weekday_name"
   ]
  },
  {
   "cell_type": "code",
   "execution_count": 66,
   "metadata": {},
   "outputs": [
    {
     "data": {
      "image/png": "[encoded data removed]",
      "text/plain": [
       "<Figure size 864x432 with 4 Axes>"
      ]
     },
     "metadata": {
      "needs_background": "light"
     },
     "output_type": "display_data"
    }
   ],
   "source": [
    "begin_date = '2017-01-02'\n",
    "end_date ='2017-08-15'\n",
    "family = 'GROCERY I'\n",
    "\n",
    "plt.figure(figsize = (12,6))\n",
    "for i, store_nbr in enumerate([1,9,17,45],1):\n",
    "    plt.subplot(2,2,i)\n",
    "    store_filter = (train.store_nbr == store_nbr)\n",
    "    date_filter = (train.date >= begin_date) & (train.date <=end_date)\n",
    "    family_filter = (train.family == family)\n",
    "    temp_df = train[store_filter & date_filter & family_filter][['date','unit_sales','day_of_week']]\n",
    "    temp_df = temp_df.groupby('date').aggregate({'unit_sales':sum, 'day_of_week':max})\n",
    "    sns.boxplot(data=temp_df, x='day_of_week', y ='unit_sales', \n",
    "                order=['Monday','Tuesday','Wednesday','Thursday','Friday','Saturday','Sunday'])\n",
    "    plt.xlabel('Day of Week')\n",
    "    plt.ylabel('Total Unit Sales')\n",
    "    plt.title(f'Store #{store_nbr} (Type{store_type_dict[store_nbr]})')\n",
    "plt.tight_layout()\n",
    "plt.savefig(figure_folder + 'dow_grocery.png');"
   ]
  },
  {
   "cell_type": "code",
   "execution_count": null,
   "metadata": {},
   "outputs": [],
   "source": [
    "begin_date = '2017-01-02'\n",
    "end_date ='2017-08-15'\n",
    "family = 'PRODUCE'\n",
    "\n",
    "plt.figure(figsize = (12,6))\n",
    "for i, store_nbr in enumerate([1,9,17,45],1):\n",
    "    plt.subplot(2,2,i)\n",
    "    store_filter = (train.store_nbr == store_nbr)\n",
    "    date_filter = (train.date >= begin_date) & (train.date <=end_date)\n",
    "    family_filter = (train.family == family)\n",
    "    temp_df = train[store_filter & date_filter & family_filter][['date','unit_sales','day_of_week']]\n",
    "    temp_df = temp_df.groupby('date').aggregate({'unit_sales':sum, 'day_of_week':max})\n",
    "    sns.boxplot(data=temp_df, x='day_of_week', y ='unit_sales', \n",
    "                order=['Monday','Tuesday','Wednesday','Thursday','Friday','Saturday','Sunday'])\n",
    "    plt.xlabel('Day of Week')\n",
    "    plt.ylabel('Total Unit Sales')\n",
    "    plt.title(f'Store #{store_nbr} (Type{store_type_dict[store_nbr]})')\n",
    "plt.tight_layout()\n",
    "plt.savefig(figure_folder + 'dow_produce.png');"
   ]
  },
  {
   "cell_type": "code",
   "execution_count": null,
   "metadata": {},
   "outputs": [],
   "source": []
  },
  {
   "cell_type": "markdown",
   "metadata": {},
   "source": [
    "### 4.5.4 Effect of Holidays and Events"
   ]
  },
  {
   "cell_type": "code",
   "execution_count": 67,
   "metadata": {},
   "outputs": [
    {
     "data": {
      "text/html": [
       "<div>\n",
       "<style scoped>\n",
       "    .dataframe tbody tr th:only-of-type {\n",
       "        vertical-align: middle;\n",
       "    }\n",
       "\n",
       "    .dataframe tbody tr th {\n",
       "        vertical-align: top;\n",
       "    }\n",
       "\n",
       "    .dataframe thead th {\n",
       "        text-align: right;\n",
       "    }\n",
       "</style>\n",
       "<table border=\"1\" class=\"dataframe\">\n",
       "  <thead>\n",
       "    <tr style=\"text-align: right;\">\n",
       "      <th></th>\n",
       "      <th>date</th>\n",
       "      <th>type</th>\n",
       "      <th>locale</th>\n",
       "      <th>locale_name</th>\n",
       "      <th>description</th>\n",
       "      <th>transferred</th>\n",
       "    </tr>\n",
       "  </thead>\n",
       "  <tbody>\n",
       "    <tr>\n",
       "      <th>261</th>\n",
       "      <td>2016-07-03</td>\n",
       "      <td>Holiday</td>\n",
       "      <td>Local</td>\n",
       "      <td>El Carmen</td>\n",
       "      <td>Cantonizacion de El Carmen</td>\n",
       "      <td>False</td>\n",
       "    </tr>\n",
       "    <tr>\n",
       "      <th>262</th>\n",
       "      <td>2016-07-03</td>\n",
       "      <td>Holiday</td>\n",
       "      <td>Local</td>\n",
       "      <td>Santo Domingo</td>\n",
       "      <td>Fundacion de Santo Domingo</td>\n",
       "      <td>False</td>\n",
       "    </tr>\n",
       "    <tr>\n",
       "      <th>263</th>\n",
       "      <td>2016-07-23</td>\n",
       "      <td>Holiday</td>\n",
       "      <td>Local</td>\n",
       "      <td>Cayambe</td>\n",
       "      <td>Cantonizacion de Cayambe</td>\n",
       "      <td>False</td>\n",
       "    </tr>\n",
       "    <tr>\n",
       "      <th>264</th>\n",
       "      <td>2016-07-24</td>\n",
       "      <td>Additional</td>\n",
       "      <td>Local</td>\n",
       "      <td>Guayaquil</td>\n",
       "      <td>Fundacion de Guayaquil-1</td>\n",
       "      <td>False</td>\n",
       "    </tr>\n",
       "    <tr>\n",
       "      <th>265</th>\n",
       "      <td>2016-07-24</td>\n",
       "      <td>Transfer</td>\n",
       "      <td>Local</td>\n",
       "      <td>Guayaquil</td>\n",
       "      <td>Traslado Fundacion de Guayaquil</td>\n",
       "      <td>False</td>\n",
       "    </tr>\n",
       "    <tr>\n",
       "      <th>266</th>\n",
       "      <td>2016-07-25</td>\n",
       "      <td>Holiday</td>\n",
       "      <td>Local</td>\n",
       "      <td>Guayaquil</td>\n",
       "      <td>Fundacion de Guayaquil</td>\n",
       "      <td>True</td>\n",
       "    </tr>\n",
       "    <tr>\n",
       "      <th>267</th>\n",
       "      <td>2016-08-05</td>\n",
       "      <td>Holiday</td>\n",
       "      <td>Local</td>\n",
       "      <td>Esmeraldas</td>\n",
       "      <td>Fundacion de Esmeraldas</td>\n",
       "      <td>False</td>\n",
       "    </tr>\n",
       "    <tr>\n",
       "      <th>268</th>\n",
       "      <td>2016-08-10</td>\n",
       "      <td>Holiday</td>\n",
       "      <td>National</td>\n",
       "      <td>Ecuador</td>\n",
       "      <td>Primer Grito de Independencia</td>\n",
       "      <td>True</td>\n",
       "    </tr>\n",
       "    <tr>\n",
       "      <th>269</th>\n",
       "      <td>2016-08-12</td>\n",
       "      <td>Transfer</td>\n",
       "      <td>National</td>\n",
       "      <td>Ecuador</td>\n",
       "      <td>Traslado Primer Grito de Independencia</td>\n",
       "      <td>False</td>\n",
       "    </tr>\n",
       "    <tr>\n",
       "      <th>270</th>\n",
       "      <td>2016-08-15</td>\n",
       "      <td>Holiday</td>\n",
       "      <td>Local</td>\n",
       "      <td>Riobamba</td>\n",
       "      <td>Fundacion de Riobamba</td>\n",
       "      <td>False</td>\n",
       "    </tr>\n",
       "    <tr>\n",
       "      <th>271</th>\n",
       "      <td>2016-08-24</td>\n",
       "      <td>Holiday</td>\n",
       "      <td>Local</td>\n",
       "      <td>Ambato</td>\n",
       "      <td>Fundacion de Ambato</td>\n",
       "      <td>False</td>\n",
       "    </tr>\n",
       "  </tbody>\n",
       "</table>\n",
       "</div>"
      ],
      "text/plain": [
       "          date        type    locale    locale_name  \\\n",
       "261 2016-07-03     Holiday     Local      El Carmen   \n",
       "262 2016-07-03     Holiday     Local  Santo Domingo   \n",
       "263 2016-07-23     Holiday     Local        Cayambe   \n",
       "264 2016-07-24  Additional     Local      Guayaquil   \n",
       "265 2016-07-24    Transfer     Local      Guayaquil   \n",
       "266 2016-07-25     Holiday     Local      Guayaquil   \n",
       "267 2016-08-05     Holiday     Local     Esmeraldas   \n",
       "268 2016-08-10     Holiday  National        Ecuador   \n",
       "269 2016-08-12    Transfer  National        Ecuador   \n",
       "270 2016-08-15     Holiday     Local       Riobamba   \n",
       "271 2016-08-24     Holiday     Local         Ambato   \n",
       "\n",
       "                                description  transferred  \n",
       "261              Cantonizacion de El Carmen        False  \n",
       "262              Fundacion de Santo Domingo        False  \n",
       "263                Cantonizacion de Cayambe        False  \n",
       "264                Fundacion de Guayaquil-1        False  \n",
       "265         Traslado Fundacion de Guayaquil        False  \n",
       "266                  Fundacion de Guayaquil         True  \n",
       "267                 Fundacion de Esmeraldas        False  \n",
       "268           Primer Grito de Independencia         True  \n",
       "269  Traslado Primer Grito de Independencia        False  \n",
       "270                   Fundacion de Riobamba        False  \n",
       "271                     Fundacion de Ambato        False  "
      ]
     },
     "execution_count": 67,
     "metadata": {},
     "output_type": "execute_result"
    }
   ],
   "source": [
    "date_filter = (holidays.date >='2016-07-01') & (holidays.date <= '2016-08-31')\n",
    "holidays[date_filter]"
   ]
  },
  {
   "cell_type": "markdown",
   "metadata": {},
   "source": [
    "**Christmas and New Year**"
   ]
  },
  {
   "cell_type": "code",
   "execution_count": 73,
   "metadata": {
    "scrolled": true
   },
   "outputs": [
    {
     "data": {
      "image/png": "[encoded data removed]",
      "text/plain": [
       "<Figure size 1080x288 with 1 Axes>"
      ]
     },
     "metadata": {
      "needs_background": "light"
     },
     "output_type": "display_data"
    }
   ],
   "source": [
    "begin_date = '2016-12-01'\n",
    "end_date= '2017-01-15'\n",
    "store_nbr = 45\n",
    "family = 'LIQUOR,WINE,BEER'\n",
    "store_filter = (train.store_nbr == store_nbr)\n",
    "date_filter = (train.date >= begin_date) & (train.date <= end_date)\n",
    "family_filter = (train.family == family)\n",
    "\n",
    "temp_df = train[store_filter & date_filter & family_filter][['date','unit_sales']]\n",
    "temp_df = temp_df.groupby('date').aggregate({'unit_sales':sum})\n",
    "temp_df = temp_df.reindex(pd.date_range(begin_date,end_date),fill_value=0)\n",
    "\n",
    "plt.subplots(figsize=(15,4))\n",
    "sns.lineplot(data = temp_df)\n",
    "plt.xlim([begin_date,end_date])\n",
    "plt.ylabel('Sum of Unit Sales')\n",
    "plt.axvline('2016-12-25',color='red',linestyle='--')\n",
    "plt.axvline('2017-01-01',color='red',linestyle='--')\n",
    "plt.annotate('Chirstmas Day', ['2016-12-21',0],color='red')\n",
    "plt.annotate('New Year Day', ['2017-01-02',0],color='red')\n",
    "plt.legend('')\n",
    "plt.tight_layout()\n",
    "plt.savefig(figure_folder + 'christmas_new_year.png');"
   ]
  },
  {
   "cell_type": "markdown",
   "metadata": {},
   "source": [
    "**National Day 2016**"
   ]
  },
  {
   "cell_type": "code",
   "execution_count": 74,
   "metadata": {},
   "outputs": [
    {
     "data": {
      "image/png": "[encoded data removed]",
      "text/plain": [
       "<Figure size 864x288 with 1 Axes>"
      ]
     },
     "metadata": {
      "needs_background": "light"
     },
     "output_type": "display_data"
    }
   ],
   "source": [
    "store_nbr = 45\n",
    "begin_date = '2016-07-15'\n",
    "end_date ='2016-08-20'\n",
    "family = 'LIQUOR,WINE,BEER'\n",
    "\n",
    "plt.figure(figsize = (12,4))\n",
    "store_filter = (train.store_nbr == store_nbr)\n",
    "date_filter = (train.date >= begin_date) & (train.date <=end_date)\n",
    "family_filter = (train.family == family)\n",
    "temp_df = train[store_filter & date_filter & family_filter][['date','unit_sales']]\n",
    "temp_df = temp_df.groupby('date').aggregate({'unit_sales':sum})\n",
    "\n",
    "sns.lineplot(data=temp_df)\n",
    "plt.xlim([begin_date,end_date])\n",
    "plt.ylabel('Sum of Unit Sales')\n",
    "plt.axvline('2016-08-12', c='r', ls='--')\n",
    "plt.annotate('National Day', ['2016-08-09',425], color='red')\n",
    "plt.legend('')\n",
    "plt.tight_layout()\n",
    "plt.savefig(figure_folder + 'national_day_store-45_liquor.png');"
   ]
  },
  {
   "cell_type": "markdown",
   "metadata": {},
   "source": [
    "**World Cup 2014**"
   ]
  },
  {
   "cell_type": "code",
   "execution_count": 75,
   "metadata": {},
   "outputs": [],
   "source": [
    "train_45_2014 = train_45_2014.merge(items[['family']],on = 'item_nbr', right_index=True)"
   ]
  },
  {
   "cell_type": "code",
   "execution_count": 76,
   "metadata": {},
   "outputs": [
    {
     "data": {
      "text/html": [
       "<div>\n",
       "<style scoped>\n",
       "    .dataframe tbody tr th:only-of-type {\n",
       "        vertical-align: middle;\n",
       "    }\n",
       "\n",
       "    .dataframe tbody tr th {\n",
       "        vertical-align: top;\n",
       "    }\n",
       "\n",
       "    .dataframe thead th {\n",
       "        text-align: right;\n",
       "    }\n",
       "</style>\n",
       "<table border=\"1\" class=\"dataframe\">\n",
       "  <thead>\n",
       "    <tr style=\"text-align: right;\">\n",
       "      <th></th>\n",
       "      <th>date</th>\n",
       "      <th>item_nbr</th>\n",
       "      <th>unit_sales</th>\n",
       "      <th>family</th>\n",
       "    </tr>\n",
       "    <tr>\n",
       "      <th>id</th>\n",
       "      <th></th>\n",
       "      <th></th>\n",
       "      <th></th>\n",
       "      <th></th>\n",
       "    </tr>\n",
       "  </thead>\n",
       "  <tbody>\n",
       "    <tr>\n",
       "      <th>24723513</th>\n",
       "      <td>2014-06-01</td>\n",
       "      <td>103520</td>\n",
       "      <td>10.0</td>\n",
       "      <td>GROCERY I</td>\n",
       "    </tr>\n",
       "    <tr>\n",
       "      <th>24776730</th>\n",
       "      <td>2014-06-02</td>\n",
       "      <td>103520</td>\n",
       "      <td>4.0</td>\n",
       "      <td>GROCERY I</td>\n",
       "    </tr>\n",
       "    <tr>\n",
       "      <th>24828422</th>\n",
       "      <td>2014-06-03</td>\n",
       "      <td>103520</td>\n",
       "      <td>8.0</td>\n",
       "      <td>GROCERY I</td>\n",
       "    </tr>\n",
       "    <tr>\n",
       "      <th>24879399</th>\n",
       "      <td>2014-06-04</td>\n",
       "      <td>103520</td>\n",
       "      <td>4.0</td>\n",
       "      <td>GROCERY I</td>\n",
       "    </tr>\n",
       "    <tr>\n",
       "      <th>24929500</th>\n",
       "      <td>2014-06-05</td>\n",
       "      <td>103520</td>\n",
       "      <td>7.0</td>\n",
       "      <td>GROCERY I</td>\n",
       "    </tr>\n",
       "  </tbody>\n",
       "</table>\n",
       "</div>"
      ],
      "text/plain": [
       "               date  item_nbr  unit_sales     family\n",
       "id                                                  \n",
       "24723513 2014-06-01    103520        10.0  GROCERY I\n",
       "24776730 2014-06-02    103520         4.0  GROCERY I\n",
       "24828422 2014-06-03    103520         8.0  GROCERY I\n",
       "24879399 2014-06-04    103520         4.0  GROCERY I\n",
       "24929500 2014-06-05    103520         7.0  GROCERY I"
      ]
     },
     "execution_count": 76,
     "metadata": {},
     "output_type": "execute_result"
    }
   ],
   "source": [
    "train_45_2014.head()"
   ]
  },
  {
   "cell_type": "code",
   "execution_count": 77,
   "metadata": {},
   "outputs": [
    {
     "data": {
      "image/png": "[encoded data removed]",
      "text/plain": [
       "<Figure size 864x288 with 1 Axes>"
      ]
     },
     "metadata": {
      "needs_background": "light"
     },
     "output_type": "display_data"
    }
   ],
   "source": [
    "begin_date = '2014-06-01'\n",
    "end_date ='2014-06-30'\n",
    "family = 'LIQUOR,WINE,BEER'\n",
    "\n",
    "plt.figure(figsize = (12,4))\n",
    "date_filter = (train_45_2014.date >= begin_date) & (train_45_2014.date <=end_date)\n",
    "family_filter = (train_45_2014.family == family)\n",
    "temp_df = train_45_2014[date_filter & family_filter][['date','unit_sales']]\n",
    "temp_df = temp_df.groupby('date').aggregate({'unit_sales':sum})\n",
    "temp_df = temp_df.reindex(pd.date_range(begin_date, end_date),fill_value=0)\n",
    "sns.lineplot(data=temp_df)\n",
    "plt.xlim([begin_date,end_date])\n",
    "plt.ylabel('Sum of Unit Sales')\n",
    "plt.axvline('2014-06-15',color='red',linestyle='--')\n",
    "plt.axvline('2014-06-20',color='red',linestyle='--')\n",
    "plt.axvline('2014-06-25',color='red',linestyle='--')\n",
    "plt.annotate('Game 1',['2014-06-16',1100],color='red')\n",
    "plt.annotate('Game 2',['2014-06-21',1100],color='red')\n",
    "plt.annotate('Game 3',['2014-06-26',1100],color='red')\n",
    "plt.legend('')\n",
    "plt.tight_layout()\n",
    "plt.savefig(figure_folder + 'world_cup_45_liquor.png');"
   ]
  },
  {
   "cell_type": "markdown",
   "metadata": {},
   "source": [
    "**Earthquake 2016**"
   ]
  },
  {
   "cell_type": "code",
   "execution_count": 80,
   "metadata": {},
   "outputs": [
    {
     "data": {
      "image/png": "[encoded data removed]",
      "text/plain": [
       "<Figure size 864x288 with 1 Axes>"
      ]
     },
     "metadata": {
      "needs_background": "light"
     },
     "output_type": "display_data"
    }
   ],
   "source": [
    "begin_date = '2016-04-01'\n",
    "end_date= '2016-04-30'\n",
    "store_nbr = 45\n",
    "family = 'GROCERY I'\n",
    "store_filter = (train.store_nbr == store_nbr)\n",
    "date_filter = (train.date >= begin_date) & (train.date <= end_date)\n",
    "family_filter = (train.family == family)\n",
    "\n",
    "temp_df = train[store_filter & date_filter & family_filter][['date','unit_sales']]\n",
    "temp_df = temp_df.groupby('date').aggregate({'unit_sales':sum})\n",
    "temp_df = temp_df.reindex(pd.date_range(begin_date,end_date),fill_value=0)\n",
    "\n",
    "plt.subplots(figsize=(12,4))\n",
    "sns.lineplot(data = temp_df)\n",
    "plt.xlim([begin_date,end_date])\n",
    "plt.ylabel('Sum of Unit Sales')\n",
    "plt.axvline('2016-04-16',color='red',linestyle='--')\n",
    "plt.annotate('Earthquake',['2016-04-13',72000],color='red')\n",
    "plt.legend('')\n",
    "plt.tight_layout()\n",
    "plt.savefig(figure_folder + 'earthquake_45.png');"
   ]
  },
  {
   "cell_type": "code",
   "execution_count": null,
   "metadata": {},
   "outputs": [],
   "source": []
  },
  {
   "cell_type": "markdown",
   "metadata": {},
   "source": [
    "# 4.6 Inferential Statistics"
   ]
  },
  {
   "cell_type": "markdown",
   "metadata": {},
   "source": [
    "**Focus on Store 45**"
   ]
  },
  {
   "cell_type": "code",
   "execution_count": 81,
   "metadata": {},
   "outputs": [],
   "source": [
    "import statsmodels.api as sm"
   ]
  },
  {
   "cell_type": "code",
   "execution_count": 82,
   "metadata": {},
   "outputs": [
    {
     "data": {
      "text/plain": [
       "46609"
      ]
     },
     "execution_count": 82,
     "metadata": {},
     "output_type": "execute_result"
    }
   ],
   "source": [
    "store_filter = (train.store_nbr == 45)\n",
    "train = train[store_filter][['date','item_nbr','family','unit_sales','day_of_week']]\n",
    "gc.collect()"
   ]
  },
  {
   "cell_type": "code",
   "execution_count": 83,
   "metadata": {},
   "outputs": [
    {
     "data": {
      "text/html": [
       "<div>\n",
       "<style scoped>\n",
       "    .dataframe tbody tr th:only-of-type {\n",
       "        vertical-align: middle;\n",
       "    }\n",
       "\n",
       "    .dataframe tbody tr th {\n",
       "        vertical-align: top;\n",
       "    }\n",
       "\n",
       "    .dataframe thead th {\n",
       "        text-align: right;\n",
       "    }\n",
       "</style>\n",
       "<table border=\"1\" class=\"dataframe\">\n",
       "  <thead>\n",
       "    <tr style=\"text-align: right;\">\n",
       "      <th></th>\n",
       "      <th>date</th>\n",
       "      <th>item_nbr</th>\n",
       "      <th>family</th>\n",
       "      <th>unit_sales</th>\n",
       "      <th>day_of_week</th>\n",
       "    </tr>\n",
       "  </thead>\n",
       "  <tbody>\n",
       "    <tr>\n",
       "      <th>7733296</th>\n",
       "      <td>2016-01-01</td>\n",
       "      <td>96995</td>\n",
       "      <td>GROCERY I</td>\n",
       "      <td>0.0</td>\n",
       "      <td>Friday</td>\n",
       "    </tr>\n",
       "    <tr>\n",
       "      <th>7733297</th>\n",
       "      <td>2016-01-02</td>\n",
       "      <td>96995</td>\n",
       "      <td>GROCERY I</td>\n",
       "      <td>0.0</td>\n",
       "      <td>Saturday</td>\n",
       "    </tr>\n",
       "    <tr>\n",
       "      <th>7733298</th>\n",
       "      <td>2016-01-03</td>\n",
       "      <td>96995</td>\n",
       "      <td>GROCERY I</td>\n",
       "      <td>0.0</td>\n",
       "      <td>Sunday</td>\n",
       "    </tr>\n",
       "    <tr>\n",
       "      <th>7733299</th>\n",
       "      <td>2016-01-04</td>\n",
       "      <td>96995</td>\n",
       "      <td>GROCERY I</td>\n",
       "      <td>0.0</td>\n",
       "      <td>Monday</td>\n",
       "    </tr>\n",
       "    <tr>\n",
       "      <th>7733300</th>\n",
       "      <td>2016-01-05</td>\n",
       "      <td>96995</td>\n",
       "      <td>GROCERY I</td>\n",
       "      <td>0.0</td>\n",
       "      <td>Tuesday</td>\n",
       "    </tr>\n",
       "  </tbody>\n",
       "</table>\n",
       "</div>"
      ],
      "text/plain": [
       "              date  item_nbr     family  unit_sales day_of_week\n",
       "7733296 2016-01-01     96995  GROCERY I         0.0      Friday\n",
       "7733297 2016-01-02     96995  GROCERY I         0.0    Saturday\n",
       "7733298 2016-01-03     96995  GROCERY I         0.0      Sunday\n",
       "7733299 2016-01-04     96995  GROCERY I         0.0      Monday\n",
       "7733300 2016-01-05     96995  GROCERY I         0.0     Tuesday"
      ]
     },
     "execution_count": 83,
     "metadata": {},
     "output_type": "execute_result"
    }
   ],
   "source": [
    "train.head()"
   ]
  },
  {
   "cell_type": "code",
   "execution_count": 84,
   "metadata": {},
   "outputs": [
    {
     "data": {
      "text/html": [
       "<div>\n",
       "<style scoped>\n",
       "    .dataframe tbody tr th:only-of-type {\n",
       "        vertical-align: middle;\n",
       "    }\n",
       "\n",
       "    .dataframe tbody tr th {\n",
       "        vertical-align: top;\n",
       "    }\n",
       "\n",
       "    .dataframe thead th {\n",
       "        text-align: right;\n",
       "    }\n",
       "</style>\n",
       "<table border=\"1\" class=\"dataframe\">\n",
       "  <thead>\n",
       "    <tr style=\"text-align: right;\">\n",
       "      <th></th>\n",
       "      <th>date</th>\n",
       "      <th>item_nbr</th>\n",
       "      <th>onpromotion</th>\n",
       "    </tr>\n",
       "    <tr>\n",
       "      <th>id</th>\n",
       "      <th></th>\n",
       "      <th></th>\n",
       "      <th></th>\n",
       "    </tr>\n",
       "  </thead>\n",
       "  <tbody>\n",
       "    <tr>\n",
       "      <th>66540742</th>\n",
       "      <td>2016-01-02</td>\n",
       "      <td>103520</td>\n",
       "      <td>True</td>\n",
       "    </tr>\n",
       "    <tr>\n",
       "      <th>66540743</th>\n",
       "      <td>2016-01-02</td>\n",
       "      <td>103665</td>\n",
       "      <td>False</td>\n",
       "    </tr>\n",
       "    <tr>\n",
       "      <th>66540744</th>\n",
       "      <td>2016-01-02</td>\n",
       "      <td>105574</td>\n",
       "      <td>False</td>\n",
       "    </tr>\n",
       "    <tr>\n",
       "      <th>66540745</th>\n",
       "      <td>2016-01-02</td>\n",
       "      <td>105575</td>\n",
       "      <td>False</td>\n",
       "    </tr>\n",
       "    <tr>\n",
       "      <th>66540746</th>\n",
       "      <td>2016-01-02</td>\n",
       "      <td>105577</td>\n",
       "      <td>False</td>\n",
       "    </tr>\n",
       "  </tbody>\n",
       "</table>\n",
       "</div>"
      ],
      "text/plain": [
       "               date  item_nbr onpromotion\n",
       "id                                       \n",
       "66540742 2016-01-02    103520        True\n",
       "66540743 2016-01-02    103665       False\n",
       "66540744 2016-01-02    105574       False\n",
       "66540745 2016-01-02    105575       False\n",
       "66540746 2016-01-02    105577       False"
      ]
     },
     "execution_count": 84,
     "metadata": {},
     "output_type": "execute_result"
    }
   ],
   "source": [
    "promo_45_df.head()"
   ]
  },
  {
   "cell_type": "code",
   "execution_count": 85,
   "metadata": {},
   "outputs": [],
   "source": [
    "train = train.merge(promo_45_df, how='left', on = ['date','item_nbr'])"
   ]
  },
  {
   "cell_type": "code",
   "execution_count": 86,
   "metadata": {},
   "outputs": [],
   "source": [
    "train.onpromotion = train.onpromotion.fillna(False)"
   ]
  },
  {
   "cell_type": "code",
   "execution_count": 87,
   "metadata": {},
   "outputs": [
    {
     "data": {
      "text/plain": [
       "item_nbr\n",
       "265559     81822.0\n",
       "314384     75766.0\n",
       "364606     67614.0\n",
       "559870     67276.0\n",
       "414750     54342.0\n",
       "261052     53071.0\n",
       "320682     51132.0\n",
       "964752     48360.0\n",
       "305080     47325.0\n",
       "1036689    45986.0\n",
       "Name: unit_sales, dtype: float64"
      ]
     },
     "execution_count": 87,
     "metadata": {},
     "output_type": "execute_result"
    }
   ],
   "source": [
    "# find top 10 GROCERY I items in unit sales \n",
    "family_filter = (train.family =='GROCERY I')\n",
    "train[family_filter].groupby('item_nbr')['unit_sales'].sum().sort_values(ascending=False)[:10]"
   ]
  },
  {
   "cell_type": "code",
   "execution_count": 88,
   "metadata": {},
   "outputs": [
    {
     "data": {
      "text/plain": [
       "item_nbr\n",
       "1503844    273478.790\n",
       "1473474    203113.905\n",
       "1686656    118280.000\n",
       "1926217    102842.000\n",
       "1695835     89800.157\n",
       "1503847     77313.464\n",
       "1751174     77252.310\n",
       "1584575     74172.000\n",
       "1473410     55139.732\n",
       "1502392     52450.321\n",
       "Name: unit_sales, dtype: float64"
      ]
     },
     "execution_count": 88,
     "metadata": {},
     "output_type": "execute_result"
    }
   ],
   "source": [
    "# find top 10 PRODUCE items in unit sales \n",
    "family_filter = (train.family =='PRODUCE')\n",
    "train[family_filter].groupby('item_nbr')['unit_sales'].sum().sort_values(ascending=False)[:10]"
   ]
  },
  {
   "cell_type": "code",
   "execution_count": 89,
   "metadata": {},
   "outputs": [
    {
     "data": {
      "text/plain": [
       "item_nbr\n",
       "1004550    18063.0\n",
       "1004551    13108.0\n",
       "812751     11669.0\n",
       "812757      8390.0\n",
       "1148018     6587.0\n",
       "1399750     5716.0\n",
       "1412392     5660.0\n",
       "968935      5535.0\n",
       "968936      4432.0\n",
       "1080001     4130.0\n",
       "Name: unit_sales, dtype: float64"
      ]
     },
     "execution_count": 89,
     "metadata": {},
     "output_type": "execute_result"
    }
   ],
   "source": [
    "# find top 10 PRODUCE items in unit sales \n",
    "family_filter = (train.family =='LIQUOR,WINE,BEER')\n",
    "train[family_filter].groupby('item_nbr')['unit_sales'].sum().sort_values(ascending=False)[:10]"
   ]
  },
  {
   "cell_type": "code",
   "execution_count": 90,
   "metadata": {},
   "outputs": [],
   "source": [
    "date_filter = (train.date >= '2017-01-02')\n",
    "item = 265559\n",
    "temp_df = train[(train.item_nbr == item) & date_filter]"
   ]
  },
  {
   "cell_type": "code",
   "execution_count": 92,
   "metadata": {},
   "outputs": [
    {
     "data": {
      "text/html": [
       "<div>\n",
       "<style scoped>\n",
       "    .dataframe tbody tr th:only-of-type {\n",
       "        vertical-align: middle;\n",
       "    }\n",
       "\n",
       "    .dataframe tbody tr th {\n",
       "        vertical-align: top;\n",
       "    }\n",
       "\n",
       "    .dataframe thead th {\n",
       "        text-align: right;\n",
       "    }\n",
       "</style>\n",
       "<table border=\"1\" class=\"dataframe\">\n",
       "  <thead>\n",
       "    <tr style=\"text-align: right;\">\n",
       "      <th></th>\n",
       "      <th>date</th>\n",
       "      <th>item_nbr</th>\n",
       "      <th>family</th>\n",
       "      <th>unit_sales</th>\n",
       "      <th>day_of_week</th>\n",
       "      <th>onpromotion</th>\n",
       "    </tr>\n",
       "  </thead>\n",
       "  <tbody>\n",
       "    <tr>\n",
       "      <th>130606</th>\n",
       "      <td>2017-01-02</td>\n",
       "      <td>265559</td>\n",
       "      <td>GROCERY I</td>\n",
       "      <td>299.0</td>\n",
       "      <td>Monday</td>\n",
       "      <td>False</td>\n",
       "    </tr>\n",
       "    <tr>\n",
       "      <th>130607</th>\n",
       "      <td>2017-01-03</td>\n",
       "      <td>265559</td>\n",
       "      <td>GROCERY I</td>\n",
       "      <td>166.0</td>\n",
       "      <td>Tuesday</td>\n",
       "      <td>False</td>\n",
       "    </tr>\n",
       "    <tr>\n",
       "      <th>130608</th>\n",
       "      <td>2017-01-04</td>\n",
       "      <td>265559</td>\n",
       "      <td>GROCERY I</td>\n",
       "      <td>108.0</td>\n",
       "      <td>Wednesday</td>\n",
       "      <td>False</td>\n",
       "    </tr>\n",
       "    <tr>\n",
       "      <th>130609</th>\n",
       "      <td>2017-01-05</td>\n",
       "      <td>265559</td>\n",
       "      <td>GROCERY I</td>\n",
       "      <td>109.0</td>\n",
       "      <td>Thursday</td>\n",
       "      <td>False</td>\n",
       "    </tr>\n",
       "    <tr>\n",
       "      <th>130610</th>\n",
       "      <td>2017-01-06</td>\n",
       "      <td>265559</td>\n",
       "      <td>GROCERY I</td>\n",
       "      <td>116.0</td>\n",
       "      <td>Friday</td>\n",
       "      <td>False</td>\n",
       "    </tr>\n",
       "  </tbody>\n",
       "</table>\n",
       "</div>"
      ],
      "text/plain": [
       "             date  item_nbr     family  unit_sales day_of_week  onpromotion\n",
       "130606 2017-01-02    265559  GROCERY I       299.0      Monday        False\n",
       "130607 2017-01-03    265559  GROCERY I       166.0     Tuesday        False\n",
       "130608 2017-01-04    265559  GROCERY I       108.0   Wednesday        False\n",
       "130609 2017-01-05    265559  GROCERY I       109.0    Thursday        False\n",
       "130610 2017-01-06    265559  GROCERY I       116.0      Friday        False"
      ]
     },
     "execution_count": 92,
     "metadata": {},
     "output_type": "execute_result"
    }
   ],
   "source": [
    "temp_df.head()"
   ]
  },
  {
   "cell_type": "code",
   "execution_count": 93,
   "metadata": {},
   "outputs": [
    {
     "data": {
      "image/png": "[encoded data removed]",
      "text/plain": [
       "<Figure size 1080x288 with 3 Axes>"
      ]
     },
     "metadata": {
      "needs_background": "light"
     },
     "output_type": "display_data"
    }
   ],
   "source": [
    "date_filter = (train.date >= '2017-01-02')\n",
    "\n",
    "item_list = [314384,1503844,1004550]\n",
    "plt.figure(figsize=(15,4))\n",
    "dow_order = ['Monday','Tuesday','Wednesday','Thursday','Friday','Saturday','Sunday']\n",
    "\n",
    "# boxplot for day of the week\n",
    "for i, item in enumerate(item_list,1):\n",
    "    temp_df = train[(train.item_nbr == item) & date_filter]\n",
    "    plt.subplot(1,3,i)\n",
    "    sns.boxplot(data =temp_df, x='day_of_week', y = 'unit_sales',order=dow_order)\n",
    "    plt.xticks(rotation = 90)\n",
    "    plt.xlabel('')\n",
    "    plt.ylabel('Unit Sales')\n",
    "    plt.title(f'Item #{item} (Family: {item_family_dict[item]})')\n",
    "plt.tight_layout()\n",
    "plt.savefig(figure_folder + 'dow_45_item_boxplot.png');"
   ]
  },
  {
   "cell_type": "code",
   "execution_count": 97,
   "metadata": {},
   "outputs": [
    {
     "data": {
      "image/png": "[encoded data removed]",
      "text/plain": [
       "<Figure size 1080x288 with 3 Axes>"
      ]
     },
     "metadata": {
      "needs_background": "light"
     },
     "output_type": "display_data"
    }
   ],
   "source": [
    "date_filter = (train.date >= '2017-01-02')\n",
    "\n",
    "item_list = [314384,1503844,1004550]\n",
    "\n",
    "plt.figure(figsize=(15,4))\n",
    "\n",
    "# boxplot for day of the week\n",
    "for i, item in enumerate(item_list,1):\n",
    "    temp_df = train[(train.item_nbr == item) & date_filter]\n",
    "    plt.subplot(1,3,i)\n",
    "    sns.boxplot(data =temp_df, x='onpromotion', y = 'unit_sales')\n",
    "    plt.xticks(rotation = 90)\n",
    "    plt.xlabel('')\n",
    "    plt.ylabel('Unit Sales')\n",
    "    plt.title(f'Item #{item} (Family: {item_family_dict[item]})')\n",
    "plt.tight_layout()\n",
    "plt.savefig(figure_folder + 'onpromotion_45_item_boxplot.png');"
   ]
  },
  {
   "cell_type": "markdown",
   "metadata": {},
   "source": [
    "### 4.6.3 Statistical Analysis"
   ]
  },
  {
   "cell_type": "code",
   "execution_count": 98,
   "metadata": {},
   "outputs": [],
   "source": [
    "from collections import OrderedDict\n",
    "from scipy.stats import kruskal, mannwhitneyu"
   ]
  },
  {
   "cell_type": "code",
   "execution_count": 99,
   "metadata": {},
   "outputs": [],
   "source": [
    "def pop_eval(df, feature_list,threshold = 20):\n",
    "    category_testing_summary = pd.DataFrame(OrderedDict({'test':[], 'number of categories':[],'rejected_null_hypothesis':[]}))\n",
    "    for feature in feature_list:\n",
    "        filter_ = (df[feature].value_counts() > threshold)\n",
    "        data_list = []\n",
    "        var_str = \"\"\n",
    "        cat_list = df[feature].value_counts()[filter_].index\n",
    "        for i, cat in enumerate(cat_list):\n",
    "            data_list.append(list(df.loc[df[feature] == cat, 'unit_sales'].values))\n",
    "            var_str = var_str + 'data_list' + \"[\" + str(i) + \"]\" + \", \"\n",
    "        \n",
    "        var_str = var_str[:-2]\n",
    "        \n",
    "        num_categories = len(cat_list)\n",
    "        \n",
    "        if num_categories > 2:\n",
    "            s, p = eval('kruskal(' + var_str + ')')\n",
    "            test_used = 'Kruskal-Wallis'\n",
    "        elif num_categories == 2:\n",
    "            s, p = eval('mannwhitneyu('+ var_str + ')')\n",
    "            test_used = 'MannWhitneyU'\n",
    "        print(f'Feature: {feature}')\n",
    "        print(f'Categories: {list(cat_list)}')\n",
    "        if num_categories ==1:\n",
    "            rejected = 'NA'\n",
    "            print(f'Only one category has count above the threshold of {threshold}. No test was performed.')\n",
    "        elif num_categories > 2:\n",
    "            print('Test: Kruskal-Wallis Test')\n",
    "        elif num_categories == 2:\n",
    "            print('Test: Mann Whitney U Test')\n",
    "        print(f'The test statistics is {s} and the p-value is {p}.')\n",
    "        if num_categories > 1:\n",
    "            if p < 0.05:\n",
    "                rejected = 'yes'\n",
    "                print('Null hypothesis rejected. There is significant evidence the not all samples are from the same distribution.')\n",
    "            else:\n",
    "                print('Null hypothesis NOT rejected. There is not significant evidence the samples are not from the same distribution.')\n",
    "                rejected = 'no'\n",
    "            print('\\n')\n",
    "        category_testing_summary.loc[feature] = [test_used, num_categories, rejected]\n",
    "    return category_testing_summary"
   ]
  },
  {
   "cell_type": "code",
   "execution_count": 100,
   "metadata": {},
   "outputs": [
    {
     "name": "stdout",
     "output_type": "stream",
     "text": [
      "Item #314384 (Family:GROCERY I)\n",
      "Feature: onpromotion\n",
      "Categories: [False, True]\n",
      "Test: Mann Whitney U Test\n",
      "The test statistics is 12213.5 and the p-value is 0.017269270833395165.\n",
      "Null hypothesis rejected. There is significant evidence the not all samples are from the same distribution.\n",
      "\n",
      "\n",
      "Feature: day_of_week\n",
      "Categories: ['Friday', 'Saturday', 'Tuesday', 'Monday', 'Sunday', 'Wednesday', 'Thursday']\n",
      "Test: Kruskal-Wallis Test\n",
      "The test statistics is 318.1372900444793 and the p-value is 1.0591676663851515e-65.\n",
      "Null hypothesis rejected. There is significant evidence the not all samples are from the same distribution.\n",
      "\n",
      "\n",
      "Item #1503844 (Family:PRODUCE)\n",
      "Feature: onpromotion\n",
      "Categories: [False, True]\n",
      "Test: Mann Whitney U Test\n",
      "The test statistics is 11305.5 and the p-value is 2.474143762457629e-12.\n",
      "Null hypothesis rejected. There is significant evidence the not all samples are from the same distribution.\n",
      "\n",
      "\n",
      "Feature: day_of_week\n",
      "Categories: ['Friday', 'Saturday', 'Tuesday', 'Monday', 'Sunday', 'Wednesday', 'Thursday']\n",
      "Test: Kruskal-Wallis Test\n",
      "The test statistics is 359.0047004146441 and the p-value is 1.7991562091571245e-74.\n",
      "Null hypothesis rejected. There is significant evidence the not all samples are from the same distribution.\n",
      "\n",
      "\n",
      "Item #1004550 (Family:LIQUOR,WINE,BEER)\n",
      "Feature: onpromotion\n",
      "Categories: [False, True]\n",
      "Test: Mann Whitney U Test\n",
      "The test statistics is 6839.0 and the p-value is 0.04062720977447103.\n",
      "Null hypothesis rejected. There is significant evidence the not all samples are from the same distribution.\n",
      "\n",
      "\n",
      "Feature: day_of_week\n",
      "Categories: ['Friday', 'Saturday', 'Tuesday', 'Monday', 'Sunday', 'Wednesday', 'Thursday']\n",
      "Test: Kruskal-Wallis Test\n",
      "The test statistics is 272.0999425746689 and the p-value is 7.70902102912028e-56.\n",
      "Null hypothesis rejected. There is significant evidence the not all samples are from the same distribution.\n",
      "\n",
      "\n"
     ]
    }
   ],
   "source": [
    "item_list = [314384,1503844,1004550]\n",
    "\n",
    "for item in item_list:\n",
    "    temp_df = train[train.item_nbr == item]\n",
    "    print(f'Item #{item} (Family:{item_family_dict[item]})')\n",
    "    pop_eval(temp_df,['onpromotion','day_of_week'])\n",
    "    "
   ]
  },
  {
   "cell_type": "code",
   "execution_count": null,
   "metadata": {},
   "outputs": [],
   "source": []
  },
  {
   "cell_type": "code",
   "execution_count": null,
   "metadata": {},
   "outputs": [],
   "source": []
  },
  {
   "cell_type": "code",
   "execution_count": null,
   "metadata": {},
   "outputs": [],
   "source": []
  },
  {
   "cell_type": "code",
   "execution_count": null,
   "metadata": {},
   "outputs": [],
   "source": []
  },
  {
   "cell_type": "code",
   "execution_count": null,
   "metadata": {},
   "outputs": [],
   "source": []
  },
  {
   "cell_type": "code",
   "execution_count": null,
   "metadata": {},
   "outputs": [],
   "source": [
    "train.head()"
   ]
  },
  {
   "cell_type": "code",
   "execution_count": null,
   "metadata": {},
   "outputs": [],
   "source": []
  },
  {
   "cell_type": "code",
   "execution_count": null,
   "metadata": {},
   "outputs": [],
   "source": []
  },
  {
   "cell_type": "code",
   "execution_count": null,
   "metadata": {},
   "outputs": [],
   "source": []
  },
  {
   "cell_type": "code",
   "execution_count": null,
   "metadata": {},
   "outputs": [],
   "source": []
  },
  {
   "cell_type": "code",
   "execution_count": null,
   "metadata": {},
   "outputs": [],
   "source": []
  },
  {
   "cell_type": "code",
   "execution_count": null,
   "metadata": {},
   "outputs": [],
   "source": [
    "train['selected'] = train.store_nbr.apply(lambda x: True if x in store_list else False)"
   ]
  },
  {
   "cell_type": "code",
   "execution_count": null,
   "metadata": {},
   "outputs": [],
   "source": [
    "train = train.merge(items[['family']],left_on='item_nbr',right_index=True)"
   ]
  },
  {
   "cell_type": "code",
   "execution_count": null,
   "metadata": {},
   "outputs": [],
   "source": []
  },
  {
   "cell_type": "code",
   "execution_count": null,
   "metadata": {},
   "outputs": [],
   "source": [
    "train[train.family == 'GROCERY I'].groupby('item_nbr')['unit_sales'].sum().sort_values(ascending=False)[:10]"
   ]
  },
  {
   "cell_type": "code",
   "execution_count": null,
   "metadata": {},
   "outputs": [],
   "source": [
    "train[train.family == 'BEVERAGES'].groupby('item_nbr')['unit_sales'].sum().sort_values(ascending=False)[:10]"
   ]
  },
  {
   "cell_type": "code",
   "execution_count": null,
   "metadata": {},
   "outputs": [],
   "source": [
    "train[train.family == 'LIQUOR,WINE,BEER'].groupby('item_nbr')['unit_sales'].sum().sort_values(ascending=False)[:10]"
   ]
  },
  {
   "cell_type": "code",
   "execution_count": null,
   "metadata": {},
   "outputs": [],
   "source": [
    "train[train.family == 'PRODUCE'].groupby('item_nbr')['unit_sales'].sum().sort_values(ascending=False)[:10]"
   ]
  },
  {
   "cell_type": "code",
   "execution_count": null,
   "metadata": {},
   "outputs": [],
   "source": [
    "train = train[train.selected == True]"
   ]
  },
  {
   "cell_type": "code",
   "execution_count": null,
   "metadata": {},
   "outputs": [],
   "source": [
    "gc.collect()"
   ]
  },
  {
   "cell_type": "code",
   "execution_count": null,
   "metadata": {},
   "outputs": [],
   "source": [
    "train.set_index(['store_nbr', 'item_nbr', 'date'],inplace=True)"
   ]
  },
  {
   "cell_type": "code",
   "execution_count": null,
   "metadata": {},
   "outputs": [],
   "source": [
    "train.sort_index(inplace=True)"
   ]
  },
  {
   "cell_type": "code",
   "execution_count": null,
   "metadata": {},
   "outputs": [],
   "source": [
    "train.head()"
   ]
  },
  {
   "cell_type": "code",
   "execution_count": null,
   "metadata": {},
   "outputs": [],
   "source": [
    "store_list = [1,3,9,10,28,45,46]"
   ]
  },
  {
   "cell_type": "code",
   "execution_count": null,
   "metadata": {},
   "outputs": [],
   "source": [
    "store_nbr = 10\n",
    "item_nbr = 364606\n",
    "start_date = '2016-01-01'\n",
    "end_date = '2016-12-31'\n",
    "\n",
    "temp_df = train.loc[(store_nbr,item_nbr)].loc[start_date:end_date][['unit_sales']].plot()\n",
    "plt.title(f'Store #{store_nbr}')\n"
   ]
  },
  {
   "cell_type": "code",
   "execution_count": null,
   "metadata": {},
   "outputs": [],
   "source": [
    "stores.set_index('store_nbr',inplace=True)"
   ]
  },
  {
   "cell_type": "code",
   "execution_count": null,
   "metadata": {},
   "outputs": [],
   "source": [
    "stores.loc[1].type"
   ]
  },
  {
   "cell_type": "code",
   "execution_count": null,
   "metadata": {},
   "outputs": [],
   "source": [
    "item_nbr = 1047679\n",
    "start_date = '2016-01-01'\n",
    "end_date = '2016-08-31'\n",
    "\n",
    "\n",
    "plt.figure(figsize=(15,20)) \n",
    "for i, store_nbr in enumerate(store_list[:-1],1):\n",
    "    plt.subplot(4,2,i)\n",
    "    train.loc[(store_nbr,item_nbr)].loc[start_date:end_date]['unit_sales'].plot()\n",
    "    plt.title(f'Store #{store_nbr} Type {stores.loc[store_nbr].type}')\n",
    "    plt.axvline('2016-08-12',c='r',ls='--')\n",
    "plt.tight_layout()\n"
   ]
  },
  {
   "cell_type": "code",
   "execution_count": null,
   "metadata": {},
   "outputs": [],
   "source": [
    "temp_df = train.loc[(slice(None),slice(1503844,1503844)),['unit_sales']]"
   ]
  },
  {
   "cell_type": "code",
   "execution_count": null,
   "metadata": {},
   "outputs": [],
   "source": [
    "temp_df.reset_index().item_nbr.nunique()"
   ]
  },
  {
   "cell_type": "code",
   "execution_count": null,
   "metadata": {},
   "outputs": [],
   "source": [
    "df1= pd.DataFrame({'x':['A','A','B','B'], 'y':[100,200,100,200], 'z':[0,1,2,3]})"
   ]
  },
  {
   "cell_type": "code",
   "execution_count": null,
   "metadata": {},
   "outputs": [],
   "source": [
    "df1.set_index(['x','y'],inplace=True)"
   ]
  },
  {
   "cell_type": "code",
   "execution_count": null,
   "metadata": {},
   "outputs": [],
   "source": [
    "dfdf"
   ]
  },
  {
   "cell_type": "code",
   "execution_count": null,
   "metadata": {},
   "outputs": [],
   "source": [
    "df1.loc[(slice(None),slice(100,199)),:]"
   ]
  },
  {
   "cell_type": "code",
   "execution_count": null,
   "metadata": {},
   "outputs": [],
   "source": [
    "dr = pd.date_range('2019-01-01','2019-01-31')"
   ]
  },
  {
   "cell_type": "code",
   "execution_count": null,
   "metadata": {},
   "outputs": [],
   "source": [
    "l = len(dr)"
   ]
  },
  {
   "cell_type": "code",
   "execution_count": null,
   "metadata": {},
   "outputs": [],
   "source": [
    "df3 = pd.DataFrame({'date':dr,'type':list('A'*l), 'value':range(l)})"
   ]
  },
  {
   "cell_type": "code",
   "execution_count": null,
   "metadata": {},
   "outputs": [],
   "source": [
    "df4 = pd.DataFrame({'date':dr,'type':list('B'*l), 'value':range(100,100+l)})"
   ]
  },
  {
   "cell_type": "code",
   "execution_count": null,
   "metadata": {},
   "outputs": [],
   "source": [
    "df5 = pd.concat([df3,df4])"
   ]
  },
  {
   "cell_type": "code",
   "execution_count": null,
   "metadata": {},
   "outputs": [],
   "source": [
    "df5.dtypes"
   ]
  },
  {
   "cell_type": "code",
   "execution_count": null,
   "metadata": {},
   "outputs": [],
   "source": [
    "sns.lineplot(data=df5, x='date', y = 'value', hue='type')\n",
    "plt.xticks(rotation=45)"
   ]
  },
  {
   "cell_type": "code",
   "execution_count": null,
   "metadata": {},
   "outputs": [],
   "source": [
    "df5 = df5.set_index(['date','type']).unstack(-1)"
   ]
  },
  {
   "cell_type": "code",
   "execution_count": null,
   "metadata": {},
   "outputs": [],
   "source": []
  },
  {
   "cell_type": "code",
   "execution_count": null,
   "metadata": {},
   "outputs": [],
   "source": [
    "df6 = pd.DataFrame({'x':[1,2,3,4],'y':[10,30,20,50]})"
   ]
  },
  {
   "cell_type": "code",
   "execution_count": null,
   "metadata": {},
   "outputs": [],
   "source": [
    "sns.lineplot(data= df6, x='x',y='y')"
   ]
  },
  {
   "cell_type": "code",
   "execution_count": null,
   "metadata": {},
   "outputs": [],
   "source": []
  }
 ],
 "metadata": {
  "kernelspec": {
   "display_name": "Python 3",
   "language": "python",
   "name": "python3"
  },
  "language_info": {
   "codemirror_mode": {
    "name": "ipython",
    "version": 3
   },
   "file_extension": ".py",
   "mimetype": "text/x-python",
   "name": "python",
   "nbconvert_exporter": "python",
   "pygments_lexer": "ipython3",
   "version": "3.6.7"
  }
 },
 "nbformat": 4,
 "nbformat_minor": 2
}
