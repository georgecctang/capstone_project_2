{
 "cells": [
  {
   "cell_type": "code",
   "execution_count": 9,
   "metadata": {},
   "outputs": [],
   "source": [
    "from datetime import date, timedelta\n",
    "import gc\n",
    "import pandas as pd\n",
    "import numpy as np\n",
    "from sklearn.metrics import mean_squared_error"
   ]
  },
  {
   "cell_type": "code",
   "execution_count": 10,
   "metadata": {},
   "outputs": [],
   "source": [
    "import matplotlib.pyplot as plt\n",
    "import seaborn as sns\n",
    "%matplotlib inline"
   ]
  },
  {
   "cell_type": "markdown",
   "metadata": {},
   "source": [
    "### Load actual data"
   ]
  },
  {
   "cell_type": "code",
   "execution_count": 11,
   "metadata": {},
   "outputs": [],
   "source": [
    "file_path = '../derived_datasets/'"
   ]
  },
  {
   "cell_type": "code",
   "execution_count": 12,
   "metadata": {},
   "outputs": [],
   "source": [
    "df_true = pd.read_csv(file_path + 'df_true.csv',index_col=['store_nbr', 'item_nbr'])"
   ]
  },
  {
   "cell_type": "code",
   "execution_count": 13,
   "metadata": {},
   "outputs": [],
   "source": [
    "df_true.columns = pd.to_datetime(df_true.columns)"
   ]
  },
  {
   "cell_type": "code",
   "execution_count": 14,
   "metadata": {},
   "outputs": [
    {
     "data": {
      "text/html": [
       "<div>\n",
       "<style scoped>\n",
       "    .dataframe tbody tr th:only-of-type {\n",
       "        vertical-align: middle;\n",
       "    }\n",
       "\n",
       "    .dataframe tbody tr th {\n",
       "        vertical-align: top;\n",
       "    }\n",
       "\n",
       "    .dataframe thead th {\n",
       "        text-align: right;\n",
       "    }\n",
       "</style>\n",
       "<table border=\"1\" class=\"dataframe\">\n",
       "  <thead>\n",
       "    <tr style=\"text-align: right;\">\n",
       "      <th></th>\n",
       "      <th></th>\n",
       "      <th>2017-05-01 00:00:00</th>\n",
       "      <th>2017-05-02 00:00:00</th>\n",
       "      <th>2017-05-03 00:00:00</th>\n",
       "      <th>2017-05-04 00:00:00</th>\n",
       "      <th>2017-05-05 00:00:00</th>\n",
       "      <th>2017-05-06 00:00:00</th>\n",
       "      <th>2017-05-07 00:00:00</th>\n",
       "      <th>2017-05-08 00:00:00</th>\n",
       "      <th>2017-05-09 00:00:00</th>\n",
       "      <th>2017-05-10 00:00:00</th>\n",
       "      <th>...</th>\n",
       "      <th>2017-08-06 00:00:00</th>\n",
       "      <th>2017-08-07 00:00:00</th>\n",
       "      <th>2017-08-08 00:00:00</th>\n",
       "      <th>2017-08-09 00:00:00</th>\n",
       "      <th>2017-08-10 00:00:00</th>\n",
       "      <th>2017-08-11 00:00:00</th>\n",
       "      <th>2017-08-12 00:00:00</th>\n",
       "      <th>2017-08-13 00:00:00</th>\n",
       "      <th>2017-08-14 00:00:00</th>\n",
       "      <th>2017-08-15 00:00:00</th>\n",
       "    </tr>\n",
       "    <tr>\n",
       "      <th>store_nbr</th>\n",
       "      <th>item_nbr</th>\n",
       "      <th></th>\n",
       "      <th></th>\n",
       "      <th></th>\n",
       "      <th></th>\n",
       "      <th></th>\n",
       "      <th></th>\n",
       "      <th></th>\n",
       "      <th></th>\n",
       "      <th></th>\n",
       "      <th></th>\n",
       "      <th></th>\n",
       "      <th></th>\n",
       "      <th></th>\n",
       "      <th></th>\n",
       "      <th></th>\n",
       "      <th></th>\n",
       "      <th></th>\n",
       "      <th></th>\n",
       "      <th></th>\n",
       "      <th></th>\n",
       "      <th></th>\n",
       "    </tr>\n",
       "  </thead>\n",
       "  <tbody>\n",
       "    <tr>\n",
       "      <th rowspan=\"5\" valign=\"top\">1</th>\n",
       "      <th>96995</th>\n",
       "      <td>0.000000</td>\n",
       "      <td>0.000000</td>\n",
       "      <td>0.000000</td>\n",
       "      <td>0.000000</td>\n",
       "      <td>0.000000</td>\n",
       "      <td>0.000000</td>\n",
       "      <td>0.000000</td>\n",
       "      <td>0.693147</td>\n",
       "      <td>0.693147</td>\n",
       "      <td>0.000000</td>\n",
       "      <td>...</td>\n",
       "      <td>1.098612</td>\n",
       "      <td>1.098612</td>\n",
       "      <td>0.000000</td>\n",
       "      <td>0.000000</td>\n",
       "      <td>0.693147</td>\n",
       "      <td>0.000000</td>\n",
       "      <td>0.000000</td>\n",
       "      <td>0.000000</td>\n",
       "      <td>0.000000</td>\n",
       "      <td>0.000000</td>\n",
       "    </tr>\n",
       "    <tr>\n",
       "      <th>99197</th>\n",
       "      <td>0.000000</td>\n",
       "      <td>0.000000</td>\n",
       "      <td>0.000000</td>\n",
       "      <td>0.000000</td>\n",
       "      <td>0.000000</td>\n",
       "      <td>0.000000</td>\n",
       "      <td>0.000000</td>\n",
       "      <td>0.000000</td>\n",
       "      <td>0.000000</td>\n",
       "      <td>0.693147</td>\n",
       "      <td>...</td>\n",
       "      <td>0.000000</td>\n",
       "      <td>1.098612</td>\n",
       "      <td>0.000000</td>\n",
       "      <td>1.098612</td>\n",
       "      <td>0.000000</td>\n",
       "      <td>0.000000</td>\n",
       "      <td>0.000000</td>\n",
       "      <td>0.000000</td>\n",
       "      <td>0.000000</td>\n",
       "      <td>0.000000</td>\n",
       "    </tr>\n",
       "    <tr>\n",
       "      <th>103520</th>\n",
       "      <td>0.693147</td>\n",
       "      <td>1.791759</td>\n",
       "      <td>2.302585</td>\n",
       "      <td>1.609438</td>\n",
       "      <td>0.693147</td>\n",
       "      <td>0.000000</td>\n",
       "      <td>0.693147</td>\n",
       "      <td>1.098612</td>\n",
       "      <td>0.693147</td>\n",
       "      <td>0.000000</td>\n",
       "      <td>...</td>\n",
       "      <td>0.000000</td>\n",
       "      <td>0.000000</td>\n",
       "      <td>1.386294</td>\n",
       "      <td>0.000000</td>\n",
       "      <td>1.386294</td>\n",
       "      <td>0.693147</td>\n",
       "      <td>0.693147</td>\n",
       "      <td>0.693147</td>\n",
       "      <td>0.000000</td>\n",
       "      <td>0.000000</td>\n",
       "    </tr>\n",
       "    <tr>\n",
       "      <th>103665</th>\n",
       "      <td>0.000000</td>\n",
       "      <td>0.693147</td>\n",
       "      <td>1.098612</td>\n",
       "      <td>1.609438</td>\n",
       "      <td>0.693147</td>\n",
       "      <td>1.791759</td>\n",
       "      <td>0.000000</td>\n",
       "      <td>1.098612</td>\n",
       "      <td>1.609438</td>\n",
       "      <td>0.000000</td>\n",
       "      <td>...</td>\n",
       "      <td>0.693147</td>\n",
       "      <td>1.098612</td>\n",
       "      <td>0.000000</td>\n",
       "      <td>2.079442</td>\n",
       "      <td>2.302585</td>\n",
       "      <td>1.098612</td>\n",
       "      <td>0.000000</td>\n",
       "      <td>0.000000</td>\n",
       "      <td>0.693147</td>\n",
       "      <td>0.693147</td>\n",
       "    </tr>\n",
       "    <tr>\n",
       "      <th>105574</th>\n",
       "      <td>1.609438</td>\n",
       "      <td>1.098612</td>\n",
       "      <td>2.397895</td>\n",
       "      <td>2.302585</td>\n",
       "      <td>2.197225</td>\n",
       "      <td>1.609438</td>\n",
       "      <td>1.386294</td>\n",
       "      <td>2.772589</td>\n",
       "      <td>2.079442</td>\n",
       "      <td>2.564949</td>\n",
       "      <td>...</td>\n",
       "      <td>0.000000</td>\n",
       "      <td>1.791759</td>\n",
       "      <td>2.079442</td>\n",
       "      <td>1.945910</td>\n",
       "      <td>2.397895</td>\n",
       "      <td>1.791759</td>\n",
       "      <td>1.791759</td>\n",
       "      <td>0.000000</td>\n",
       "      <td>1.386294</td>\n",
       "      <td>1.609438</td>\n",
       "    </tr>\n",
       "  </tbody>\n",
       "</table>\n",
       "<p>5 rows × 107 columns</p>\n",
       "</div>"
      ],
      "text/plain": [
       "                    2017-05-01  2017-05-02  2017-05-03  2017-05-04  \\\n",
       "store_nbr item_nbr                                                   \n",
       "1         96995       0.000000    0.000000    0.000000    0.000000   \n",
       "          99197       0.000000    0.000000    0.000000    0.000000   \n",
       "          103520      0.693147    1.791759    2.302585    1.609438   \n",
       "          103665      0.000000    0.693147    1.098612    1.609438   \n",
       "          105574      1.609438    1.098612    2.397895    2.302585   \n",
       "\n",
       "                    2017-05-05  2017-05-06  2017-05-07  2017-05-08  \\\n",
       "store_nbr item_nbr                                                   \n",
       "1         96995       0.000000    0.000000    0.000000    0.693147   \n",
       "          99197       0.000000    0.000000    0.000000    0.000000   \n",
       "          103520      0.693147    0.000000    0.693147    1.098612   \n",
       "          103665      0.693147    1.791759    0.000000    1.098612   \n",
       "          105574      2.197225    1.609438    1.386294    2.772589   \n",
       "\n",
       "                    2017-05-09  2017-05-10     ...      2017-08-06  \\\n",
       "store_nbr item_nbr                             ...                   \n",
       "1         96995       0.693147    0.000000     ...        1.098612   \n",
       "          99197       0.000000    0.693147     ...        0.000000   \n",
       "          103520      0.693147    0.000000     ...        0.000000   \n",
       "          103665      1.609438    0.000000     ...        0.693147   \n",
       "          105574      2.079442    2.564949     ...        0.000000   \n",
       "\n",
       "                    2017-08-07  2017-08-08  2017-08-09  2017-08-10  \\\n",
       "store_nbr item_nbr                                                   \n",
       "1         96995       1.098612    0.000000    0.000000    0.693147   \n",
       "          99197       1.098612    0.000000    1.098612    0.000000   \n",
       "          103520      0.000000    1.386294    0.000000    1.386294   \n",
       "          103665      1.098612    0.000000    2.079442    2.302585   \n",
       "          105574      1.791759    2.079442    1.945910    2.397895   \n",
       "\n",
       "                    2017-08-11  2017-08-12  2017-08-13  2017-08-14  2017-08-15  \n",
       "store_nbr item_nbr                                                              \n",
       "1         96995       0.000000    0.000000    0.000000    0.000000    0.000000  \n",
       "          99197       0.000000    0.000000    0.000000    0.000000    0.000000  \n",
       "          103520      0.693147    0.693147    0.693147    0.000000    0.000000  \n",
       "          103665      1.098612    0.000000    0.000000    0.693147    0.693147  \n",
       "          105574      1.791759    1.791759    0.000000    1.386294    1.609438  \n",
       "\n",
       "[5 rows x 107 columns]"
      ]
     },
     "execution_count": 14,
     "metadata": {},
     "output_type": "execute_result"
    }
   ],
   "source": [
    "df_true.head()"
   ]
  },
  {
   "cell_type": "code",
   "execution_count": 15,
   "metadata": {},
   "outputs": [
    {
     "data": {
      "text/plain": [
       "(167515, 107)"
      ]
     },
     "execution_count": 15,
     "metadata": {},
     "output_type": "execute_result"
    }
   ],
   "source": [
    "# from 2017-05-01 to 2017-08-15\n",
    "df_true.shape"
   ]
  },
  {
   "cell_type": "markdown",
   "metadata": {},
   "source": [
    "### Load LGBM predicted data"
   ]
  },
  {
   "cell_type": "code",
   "execution_count": 16,
   "metadata": {},
   "outputs": [],
   "source": [
    "#lgbm best model\n",
    "file_name = \"lgbm_test_pred_model_10.csv\"\n",
    "\n",
    "df_pred_lgbm = pd.read_csv(file_path + file_name, parse_dates=True, index_col = ['store_nbr','item_nbr'])"
   ]
  },
  {
   "cell_type": "code",
   "execution_count": 17,
   "metadata": {},
   "outputs": [],
   "source": [
    "df_pred_lgbm.columns = pd.to_datetime(df_pred_lgbm.columns)"
   ]
  },
  {
   "cell_type": "code",
   "execution_count": 18,
   "metadata": {},
   "outputs": [
    {
     "data": {
      "text/html": [
       "<div>\n",
       "<style scoped>\n",
       "    .dataframe tbody tr th:only-of-type {\n",
       "        vertical-align: middle;\n",
       "    }\n",
       "\n",
       "    .dataframe tbody tr th {\n",
       "        vertical-align: top;\n",
       "    }\n",
       "\n",
       "    .dataframe thead th {\n",
       "        text-align: right;\n",
       "    }\n",
       "</style>\n",
       "<table border=\"1\" class=\"dataframe\">\n",
       "  <thead>\n",
       "    <tr style=\"text-align: right;\">\n",
       "      <th></th>\n",
       "      <th></th>\n",
       "      <th>2017-08-01 00:00:00</th>\n",
       "      <th>2017-08-02 00:00:00</th>\n",
       "      <th>2017-08-03 00:00:00</th>\n",
       "      <th>2017-08-04 00:00:00</th>\n",
       "      <th>2017-08-05 00:00:00</th>\n",
       "      <th>2017-08-06 00:00:00</th>\n",
       "      <th>2017-08-07 00:00:00</th>\n",
       "      <th>2017-08-08 00:00:00</th>\n",
       "      <th>2017-08-09 00:00:00</th>\n",
       "      <th>2017-08-10 00:00:00</th>\n",
       "      <th>2017-08-11 00:00:00</th>\n",
       "      <th>2017-08-12 00:00:00</th>\n",
       "      <th>2017-08-13 00:00:00</th>\n",
       "      <th>2017-08-14 00:00:00</th>\n",
       "      <th>2017-08-15 00:00:00</th>\n",
       "    </tr>\n",
       "    <tr>\n",
       "      <th>store_nbr</th>\n",
       "      <th>item_nbr</th>\n",
       "      <th></th>\n",
       "      <th></th>\n",
       "      <th></th>\n",
       "      <th></th>\n",
       "      <th></th>\n",
       "      <th></th>\n",
       "      <th></th>\n",
       "      <th></th>\n",
       "      <th></th>\n",
       "      <th></th>\n",
       "      <th></th>\n",
       "      <th></th>\n",
       "      <th></th>\n",
       "      <th></th>\n",
       "      <th></th>\n",
       "    </tr>\n",
       "  </thead>\n",
       "  <tbody>\n",
       "    <tr>\n",
       "      <th rowspan=\"5\" valign=\"top\">1</th>\n",
       "      <th>96995</th>\n",
       "      <td>0.240455</td>\n",
       "      <td>0.237259</td>\n",
       "      <td>0.226328</td>\n",
       "      <td>0.264515</td>\n",
       "      <td>0.265930</td>\n",
       "      <td>0.241420</td>\n",
       "      <td>0.220975</td>\n",
       "      <td>0.192424</td>\n",
       "      <td>0.223262</td>\n",
       "      <td>0.191299</td>\n",
       "      <td>0.227853</td>\n",
       "      <td>0.266747</td>\n",
       "      <td>0.212561</td>\n",
       "      <td>0.207561</td>\n",
       "      <td>0.199303</td>\n",
       "    </tr>\n",
       "    <tr>\n",
       "      <th>99197</th>\n",
       "      <td>0.303040</td>\n",
       "      <td>0.351706</td>\n",
       "      <td>0.343616</td>\n",
       "      <td>0.427747</td>\n",
       "      <td>0.446318</td>\n",
       "      <td>0.255873</td>\n",
       "      <td>0.372386</td>\n",
       "      <td>0.355816</td>\n",
       "      <td>0.379891</td>\n",
       "      <td>0.356401</td>\n",
       "      <td>0.429322</td>\n",
       "      <td>0.454564</td>\n",
       "      <td>0.283007</td>\n",
       "      <td>0.357202</td>\n",
       "      <td>0.366089</td>\n",
       "    </tr>\n",
       "    <tr>\n",
       "      <th>103520</th>\n",
       "      <td>0.853022</td>\n",
       "      <td>0.922768</td>\n",
       "      <td>1.001413</td>\n",
       "      <td>0.975718</td>\n",
       "      <td>0.889555</td>\n",
       "      <td>0.351809</td>\n",
       "      <td>0.831650</td>\n",
       "      <td>0.788829</td>\n",
       "      <td>0.941242</td>\n",
       "      <td>0.975568</td>\n",
       "      <td>0.963765</td>\n",
       "      <td>0.913899</td>\n",
       "      <td>0.391249</td>\n",
       "      <td>0.807852</td>\n",
       "      <td>0.820022</td>\n",
       "    </tr>\n",
       "    <tr>\n",
       "      <th>103665</th>\n",
       "      <td>0.976243</td>\n",
       "      <td>1.052722</td>\n",
       "      <td>0.942085</td>\n",
       "      <td>1.232298</td>\n",
       "      <td>1.255253</td>\n",
       "      <td>0.660602</td>\n",
       "      <td>0.940600</td>\n",
       "      <td>0.952624</td>\n",
       "      <td>1.009790</td>\n",
       "      <td>0.921222</td>\n",
       "      <td>1.226809</td>\n",
       "      <td>1.252477</td>\n",
       "      <td>0.710134</td>\n",
       "      <td>0.936163</td>\n",
       "      <td>0.923840</td>\n",
       "    </tr>\n",
       "    <tr>\n",
       "      <th>105574</th>\n",
       "      <td>1.869732</td>\n",
       "      <td>1.991140</td>\n",
       "      <td>1.824918</td>\n",
       "      <td>1.957662</td>\n",
       "      <td>1.701903</td>\n",
       "      <td>0.863916</td>\n",
       "      <td>1.905561</td>\n",
       "      <td>1.857626</td>\n",
       "      <td>1.983967</td>\n",
       "      <td>1.754232</td>\n",
       "      <td>1.914827</td>\n",
       "      <td>1.679225</td>\n",
       "      <td>0.948411</td>\n",
       "      <td>1.836561</td>\n",
       "      <td>1.827707</td>\n",
       "    </tr>\n",
       "  </tbody>\n",
       "</table>\n",
       "</div>"
      ],
      "text/plain": [
       "                    2017-08-01  2017-08-02  2017-08-03  2017-08-04  \\\n",
       "store_nbr item_nbr                                                   \n",
       "1         96995       0.240455    0.237259    0.226328    0.264515   \n",
       "          99197       0.303040    0.351706    0.343616    0.427747   \n",
       "          103520      0.853022    0.922768    1.001413    0.975718   \n",
       "          103665      0.976243    1.052722    0.942085    1.232298   \n",
       "          105574      1.869732    1.991140    1.824918    1.957662   \n",
       "\n",
       "                    2017-08-05  2017-08-06  2017-08-07  2017-08-08  \\\n",
       "store_nbr item_nbr                                                   \n",
       "1         96995       0.265930    0.241420    0.220975    0.192424   \n",
       "          99197       0.446318    0.255873    0.372386    0.355816   \n",
       "          103520      0.889555    0.351809    0.831650    0.788829   \n",
       "          103665      1.255253    0.660602    0.940600    0.952624   \n",
       "          105574      1.701903    0.863916    1.905561    1.857626   \n",
       "\n",
       "                    2017-08-09  2017-08-10  2017-08-11  2017-08-12  \\\n",
       "store_nbr item_nbr                                                   \n",
       "1         96995       0.223262    0.191299    0.227853    0.266747   \n",
       "          99197       0.379891    0.356401    0.429322    0.454564   \n",
       "          103520      0.941242    0.975568    0.963765    0.913899   \n",
       "          103665      1.009790    0.921222    1.226809    1.252477   \n",
       "          105574      1.983967    1.754232    1.914827    1.679225   \n",
       "\n",
       "                    2017-08-13  2017-08-14  2017-08-15  \n",
       "store_nbr item_nbr                                      \n",
       "1         96995       0.212561    0.207561    0.199303  \n",
       "          99197       0.283007    0.357202    0.366089  \n",
       "          103520      0.391249    0.807852    0.820022  \n",
       "          103665      0.710134    0.936163    0.923840  \n",
       "          105574      0.948411    1.836561    1.827707  "
      ]
     },
     "execution_count": 18,
     "metadata": {},
     "output_type": "execute_result"
    }
   ],
   "source": [
    "df_pred_lgbm.head()"
   ]
  },
  {
   "cell_type": "code",
   "execution_count": null,
   "metadata": {},
   "outputs": [],
   "source": []
  },
  {
   "cell_type": "markdown",
   "metadata": {},
   "source": [
    "### Load NN predicted Data"
   ]
  },
  {
   "cell_type": "code",
   "execution_count": 19,
   "metadata": {},
   "outputs": [],
   "source": [
    "#lgbm best model\n",
    "file_name = \"nn_test_pred_model_3.csv\"\n",
    "\n",
    "df_pred_nn = pd.read_csv(file_path + file_name, parse_dates=True, index_col = ['store_nbr','item_nbr'])"
   ]
  },
  {
   "cell_type": "code",
   "execution_count": 20,
   "metadata": {},
   "outputs": [],
   "source": [
    "df_pred_nn.columns = pd.to_datetime(df_pred_nn.columns)"
   ]
  },
  {
   "cell_type": "code",
   "execution_count": 21,
   "metadata": {},
   "outputs": [
    {
     "data": {
      "text/html": [
       "<div>\n",
       "<style scoped>\n",
       "    .dataframe tbody tr th:only-of-type {\n",
       "        vertical-align: middle;\n",
       "    }\n",
       "\n",
       "    .dataframe tbody tr th {\n",
       "        vertical-align: top;\n",
       "    }\n",
       "\n",
       "    .dataframe thead th {\n",
       "        text-align: right;\n",
       "    }\n",
       "</style>\n",
       "<table border=\"1\" class=\"dataframe\">\n",
       "  <thead>\n",
       "    <tr style=\"text-align: right;\">\n",
       "      <th></th>\n",
       "      <th></th>\n",
       "      <th>2017-08-01 00:00:00</th>\n",
       "      <th>2017-08-02 00:00:00</th>\n",
       "      <th>2017-08-03 00:00:00</th>\n",
       "      <th>2017-08-04 00:00:00</th>\n",
       "      <th>2017-08-05 00:00:00</th>\n",
       "      <th>2017-08-06 00:00:00</th>\n",
       "      <th>2017-08-07 00:00:00</th>\n",
       "      <th>2017-08-08 00:00:00</th>\n",
       "      <th>2017-08-09 00:00:00</th>\n",
       "      <th>2017-08-10 00:00:00</th>\n",
       "      <th>2017-08-11 00:00:00</th>\n",
       "      <th>2017-08-12 00:00:00</th>\n",
       "      <th>2017-08-13 00:00:00</th>\n",
       "      <th>2017-08-14 00:00:00</th>\n",
       "      <th>2017-08-15 00:00:00</th>\n",
       "    </tr>\n",
       "    <tr>\n",
       "      <th>store_nbr</th>\n",
       "      <th>item_nbr</th>\n",
       "      <th></th>\n",
       "      <th></th>\n",
       "      <th></th>\n",
       "      <th></th>\n",
       "      <th></th>\n",
       "      <th></th>\n",
       "      <th></th>\n",
       "      <th></th>\n",
       "      <th></th>\n",
       "      <th></th>\n",
       "      <th></th>\n",
       "      <th></th>\n",
       "      <th></th>\n",
       "      <th></th>\n",
       "      <th></th>\n",
       "    </tr>\n",
       "  </thead>\n",
       "  <tbody>\n",
       "    <tr>\n",
       "      <th rowspan=\"5\" valign=\"top\">1</th>\n",
       "      <th>96995</th>\n",
       "      <td>0.230709</td>\n",
       "      <td>0.299386</td>\n",
       "      <td>0.239580</td>\n",
       "      <td>0.233425</td>\n",
       "      <td>0.417929</td>\n",
       "      <td>0.390753</td>\n",
       "      <td>0.151863</td>\n",
       "      <td>0.259535</td>\n",
       "      <td>0.264127</td>\n",
       "      <td>0.278572</td>\n",
       "      <td>0.300965</td>\n",
       "      <td>0.307366</td>\n",
       "      <td>0.420552</td>\n",
       "      <td>0.103404</td>\n",
       "      <td>0.368553</td>\n",
       "    </tr>\n",
       "    <tr>\n",
       "      <th>99197</th>\n",
       "      <td>0.351892</td>\n",
       "      <td>0.236675</td>\n",
       "      <td>0.323005</td>\n",
       "      <td>0.044529</td>\n",
       "      <td>0.571958</td>\n",
       "      <td>0.332180</td>\n",
       "      <td>0.373906</td>\n",
       "      <td>0.522508</td>\n",
       "      <td>0.452686</td>\n",
       "      <td>0.254324</td>\n",
       "      <td>0.297778</td>\n",
       "      <td>0.312148</td>\n",
       "      <td>0.229701</td>\n",
       "      <td>0.318012</td>\n",
       "      <td>0.604405</td>\n",
       "    </tr>\n",
       "    <tr>\n",
       "      <th>103520</th>\n",
       "      <td>0.752438</td>\n",
       "      <td>0.911705</td>\n",
       "      <td>0.962322</td>\n",
       "      <td>0.852365</td>\n",
       "      <td>0.732969</td>\n",
       "      <td>0.349866</td>\n",
       "      <td>0.743705</td>\n",
       "      <td>0.601311</td>\n",
       "      <td>0.847567</td>\n",
       "      <td>0.883760</td>\n",
       "      <td>0.864775</td>\n",
       "      <td>1.043011</td>\n",
       "      <td>0.546299</td>\n",
       "      <td>0.803296</td>\n",
       "      <td>0.634932</td>\n",
       "    </tr>\n",
       "    <tr>\n",
       "      <th>103665</th>\n",
       "      <td>0.793794</td>\n",
       "      <td>1.039253</td>\n",
       "      <td>1.005299</td>\n",
       "      <td>1.297400</td>\n",
       "      <td>1.128310</td>\n",
       "      <td>0.822319</td>\n",
       "      <td>0.878675</td>\n",
       "      <td>0.916993</td>\n",
       "      <td>0.874167</td>\n",
       "      <td>0.978365</td>\n",
       "      <td>1.137532</td>\n",
       "      <td>1.400525</td>\n",
       "      <td>0.818697</td>\n",
       "      <td>0.942197</td>\n",
       "      <td>0.650621</td>\n",
       "    </tr>\n",
       "    <tr>\n",
       "      <th>105574</th>\n",
       "      <td>1.708603</td>\n",
       "      <td>1.865813</td>\n",
       "      <td>1.520457</td>\n",
       "      <td>1.908440</td>\n",
       "      <td>1.626304</td>\n",
       "      <td>0.633825</td>\n",
       "      <td>1.789535</td>\n",
       "      <td>1.849701</td>\n",
       "      <td>1.855560</td>\n",
       "      <td>1.697001</td>\n",
       "      <td>2.018984</td>\n",
       "      <td>1.707390</td>\n",
       "      <td>1.112395</td>\n",
       "      <td>1.934652</td>\n",
       "      <td>1.785560</td>\n",
       "    </tr>\n",
       "  </tbody>\n",
       "</table>\n",
       "</div>"
      ],
      "text/plain": [
       "                    2017-08-01  2017-08-02  2017-08-03  2017-08-04  \\\n",
       "store_nbr item_nbr                                                   \n",
       "1         96995       0.230709    0.299386    0.239580    0.233425   \n",
       "          99197       0.351892    0.236675    0.323005    0.044529   \n",
       "          103520      0.752438    0.911705    0.962322    0.852365   \n",
       "          103665      0.793794    1.039253    1.005299    1.297400   \n",
       "          105574      1.708603    1.865813    1.520457    1.908440   \n",
       "\n",
       "                    2017-08-05  2017-08-06  2017-08-07  2017-08-08  \\\n",
       "store_nbr item_nbr                                                   \n",
       "1         96995       0.417929    0.390753    0.151863    0.259535   \n",
       "          99197       0.571958    0.332180    0.373906    0.522508   \n",
       "          103520      0.732969    0.349866    0.743705    0.601311   \n",
       "          103665      1.128310    0.822319    0.878675    0.916993   \n",
       "          105574      1.626304    0.633825    1.789535    1.849701   \n",
       "\n",
       "                    2017-08-09  2017-08-10  2017-08-11  2017-08-12  \\\n",
       "store_nbr item_nbr                                                   \n",
       "1         96995       0.264127    0.278572    0.300965    0.307366   \n",
       "          99197       0.452686    0.254324    0.297778    0.312148   \n",
       "          103520      0.847567    0.883760    0.864775    1.043011   \n",
       "          103665      0.874167    0.978365    1.137532    1.400525   \n",
       "          105574      1.855560    1.697001    2.018984    1.707390   \n",
       "\n",
       "                    2017-08-13  2017-08-14  2017-08-15  \n",
       "store_nbr item_nbr                                      \n",
       "1         96995       0.420552    0.103404    0.368553  \n",
       "          99197       0.229701    0.318012    0.604405  \n",
       "          103520      0.546299    0.803296    0.634932  \n",
       "          103665      0.818697    0.942197    0.650621  \n",
       "          105574      1.112395    1.934652    1.785560  "
      ]
     },
     "execution_count": 21,
     "metadata": {},
     "output_type": "execute_result"
    }
   ],
   "source": [
    "df_pred_nn.head()"
   ]
  },
  {
   "cell_type": "code",
   "execution_count": 22,
   "metadata": {},
   "outputs": [
    {
     "data": {
      "text/plain": [
       "(167515, 15)"
      ]
     },
     "execution_count": 22,
     "metadata": {},
     "output_type": "execute_result"
    }
   ],
   "source": [
    "df_pred_nn.shape"
   ]
  },
  {
   "cell_type": "markdown",
   "metadata": {},
   "source": [
    "### load items file get items weight"
   ]
  },
  {
   "cell_type": "code",
   "execution_count": 23,
   "metadata": {},
   "outputs": [],
   "source": [
    "items = pd.read_csv('../input/items.csv', index_col = 'item_nbr')\n",
    "\n",
    "# Create for graphing use\n",
    "item_family_dict = {k:v for k, v in items.family.iteritems()}"
   ]
  },
  {
   "cell_type": "code",
   "execution_count": 24,
   "metadata": {},
   "outputs": [],
   "source": [
    "items = items.reindex(df_true.index.get_level_values(1))"
   ]
  },
  {
   "cell_type": "code",
   "execution_count": 25,
   "metadata": {
    "scrolled": true
   },
   "outputs": [
    {
     "data": {
      "text/plain": [
       "(167515, 1)"
      ]
     },
     "execution_count": 25,
     "metadata": {},
     "output_type": "execute_result"
    }
   ],
   "source": [
    "weights = (items.perishable * 0.25 + 1).values\n",
    "weights = weights.reshape(weights.shape[0],1)\n",
    "weights.shape"
   ]
  },
  {
   "cell_type": "markdown",
   "metadata": {},
   "source": [
    "### Calculate NWRMSLE for LGBM test predictions"
   ]
  },
  {
   "cell_type": "code",
   "execution_count": 48,
   "metadata": {},
   "outputs": [
    {
     "name": "stdout",
     "output_type": "stream",
     "text": [
      "LGBM test NWRMSLE: 0.5982621721704929\n"
     ]
    },
    {
     "data": {
      "text/plain": [
       "16"
      ]
     },
     "execution_count": 48,
     "metadata": {},
     "output_type": "execute_result"
    }
   ],
   "source": [
    "df_error_temp = np.power(df_true[pd.date_range('2017-08-01','2017-08-15')] - df_pred_lgbm,2)\n",
    "df_error_temp = df_error_temp.values * weights\n",
    "print(f'LGBM test NWRMSLE: {np.sqrt(df_error_temp.sum().sum()/weights.sum()/15)}')\n",
    "\n",
    "del df_error_temp; gc.collect()"
   ]
  },
  {
   "cell_type": "markdown",
   "metadata": {},
   "source": [
    "### Calculate NWRMSLE for NN test predictions (double check)"
   ]
  },
  {
   "cell_type": "code",
   "execution_count": 50,
   "metadata": {},
   "outputs": [
    {
     "name": "stdout",
     "output_type": "stream",
     "text": [
      "LGBM test NWRMSLE: 0.6223143411636983\n"
     ]
    },
    {
     "data": {
      "text/plain": [
       "8"
      ]
     },
     "execution_count": 50,
     "metadata": {},
     "output_type": "execute_result"
    }
   ],
   "source": [
    "df_error_temp = np.power(df_true[pd.date_range('2017-08-01','2017-08-15')] - df_pred_nn,2)\n",
    "df_error_temp = df_error_temp.values * weights\n",
    "print(f'LGBM test NWRMSLE: {np.sqrt(df_error_temp.sum().sum()/weights.sum()/15)}')\n",
    "\n",
    "del df_error_temp; gc.collect()"
   ]
  },
  {
   "cell_type": "markdown",
   "metadata": {},
   "source": [
    "### Calculate MAE for LGBM and NN Models"
   ]
  },
  {
   "cell_type": "code",
   "execution_count": 138,
   "metadata": {},
   "outputs": [],
   "source": [
    "df_mae_lgbm = np.abs(np.expm1(df_true[pd.date_range('2017-08-01','2017-08-15')]) - np.expm1(df_pred_lgbm)).mean(axis=1)\n",
    "df_mae_lgbm = pd.DataFrame(df_mae_lgbm, columns = ['mae'])\n",
    "df_mae_lgbm.reset_index(-1,inplace=True)\n",
    "df_mae_lgbm['family'] = df_mae_lgbm['item_nbr'].apply(lambda x: item_family_dict[x])\n",
    "df_mae_lgbm.reset_index(inplace=True)\n",
    "df_mae_lgbm.set_index(['store_nbr', 'item_nbr'],inplace=True)\n",
    "df_mae_lgbm = df_mae_lgbm.sort_values(by = 'mae', ascending=False)"
   ]
  },
  {
   "cell_type": "code",
   "execution_count": 143,
   "metadata": {},
   "outputs": [],
   "source": [
    "df_mae_nn = np.abs(np.expm1(df_true[pd.date_range('2017-08-01','2017-08-15')]) - np.expm1(df_pred_nn)).mean(axis=1)\n",
    "df_mae_nn = pd.DataFrame(df_mae_nn, columns = ['mae'])\n",
    "df_mae_nn.reset_index(-1,inplace=True)\n",
    "df_mae_nn['family'] = df_mae_nn['item_nbr'].apply(lambda x: item_family_dict[x])\n",
    "df_mae_nn.reset_index(inplace=True)\n",
    "df_mae_nn.set_index(['store_nbr', 'item_nbr'],inplace=True)\n",
    "df_mae_nn = df_mae_nn.sort_values(by = 'mae', ascending=False)"
   ]
  },
  {
   "cell_type": "code",
   "execution_count": 139,
   "metadata": {},
   "outputs": [
    {
     "data": {
      "text/html": [
       "<div>\n",
       "<style scoped>\n",
       "    .dataframe tbody tr th:only-of-type {\n",
       "        vertical-align: middle;\n",
       "    }\n",
       "\n",
       "    .dataframe tbody tr th {\n",
       "        vertical-align: top;\n",
       "    }\n",
       "\n",
       "    .dataframe thead th {\n",
       "        text-align: right;\n",
       "    }\n",
       "</style>\n",
       "<table border=\"1\" class=\"dataframe\">\n",
       "  <thead>\n",
       "    <tr style=\"text-align: right;\">\n",
       "      <th></th>\n",
       "      <th></th>\n",
       "      <th>mae</th>\n",
       "      <th>family</th>\n",
       "    </tr>\n",
       "    <tr>\n",
       "      <th>store_nbr</th>\n",
       "      <th>item_nbr</th>\n",
       "      <th></th>\n",
       "      <th></th>\n",
       "    </tr>\n",
       "  </thead>\n",
       "  <tbody>\n",
       "    <tr>\n",
       "      <th>54</th>\n",
       "      <th>2013931</th>\n",
       "      <td>882.191280</td>\n",
       "      <td>BEVERAGES</td>\n",
       "    </tr>\n",
       "    <tr>\n",
       "      <th rowspan=\"2\" valign=\"top\">40</th>\n",
       "      <th>2060793</th>\n",
       "      <td>792.241483</td>\n",
       "      <td>BEVERAGES</td>\n",
       "    </tr>\n",
       "    <tr>\n",
       "      <th>2061214</th>\n",
       "      <td>773.058111</td>\n",
       "      <td>BEVERAGES</td>\n",
       "    </tr>\n",
       "    <tr>\n",
       "      <th>31</th>\n",
       "      <th>2013931</th>\n",
       "      <td>562.778418</td>\n",
       "      <td>BEVERAGES</td>\n",
       "    </tr>\n",
       "    <tr>\n",
       "      <th>20</th>\n",
       "      <th>841842</th>\n",
       "      <td>506.235593</td>\n",
       "      <td>GROCERY I</td>\n",
       "    </tr>\n",
       "  </tbody>\n",
       "</table>\n",
       "</div>"
      ],
      "text/plain": [
       "                           mae     family\n",
       "store_nbr item_nbr                       \n",
       "54        2013931   882.191280  BEVERAGES\n",
       "40        2060793   792.241483  BEVERAGES\n",
       "          2061214   773.058111  BEVERAGES\n",
       "31        2013931   562.778418  BEVERAGES\n",
       "20        841842    506.235593  GROCERY I"
      ]
     },
     "execution_count": 139,
     "metadata": {},
     "output_type": "execute_result"
    }
   ],
   "source": [
    "df_mae_lgbm.head()"
   ]
  },
  {
   "cell_type": "code",
   "execution_count": 145,
   "metadata": {},
   "outputs": [
    {
     "data": {
      "text/html": [
       "<div>\n",
       "<style scoped>\n",
       "    .dataframe tbody tr th:only-of-type {\n",
       "        vertical-align: middle;\n",
       "    }\n",
       "\n",
       "    .dataframe tbody tr th {\n",
       "        vertical-align: top;\n",
       "    }\n",
       "\n",
       "    .dataframe thead th {\n",
       "        text-align: right;\n",
       "    }\n",
       "</style>\n",
       "<table border=\"1\" class=\"dataframe\">\n",
       "  <thead>\n",
       "    <tr style=\"text-align: right;\">\n",
       "      <th></th>\n",
       "      <th></th>\n",
       "      <th>mae</th>\n",
       "      <th>family</th>\n",
       "    </tr>\n",
       "    <tr>\n",
       "      <th>store_nbr</th>\n",
       "      <th>item_nbr</th>\n",
       "      <th></th>\n",
       "      <th></th>\n",
       "    </tr>\n",
       "  </thead>\n",
       "  <tbody>\n",
       "    <tr>\n",
       "      <th>54</th>\n",
       "      <th>2013931</th>\n",
       "      <td>885.632329</td>\n",
       "      <td>BEVERAGES</td>\n",
       "    </tr>\n",
       "    <tr>\n",
       "      <th rowspan=\"2\" valign=\"top\">40</th>\n",
       "      <th>2060793</th>\n",
       "      <td>758.405851</td>\n",
       "      <td>BEVERAGES</td>\n",
       "    </tr>\n",
       "    <tr>\n",
       "      <th>2061214</th>\n",
       "      <td>732.722686</td>\n",
       "      <td>BEVERAGES</td>\n",
       "    </tr>\n",
       "    <tr>\n",
       "      <th>31</th>\n",
       "      <th>2013931</th>\n",
       "      <td>545.863840</td>\n",
       "      <td>BEVERAGES</td>\n",
       "    </tr>\n",
       "    <tr>\n",
       "      <th>40</th>\n",
       "      <th>841842</th>\n",
       "      <td>496.022836</td>\n",
       "      <td>GROCERY I</td>\n",
       "    </tr>\n",
       "  </tbody>\n",
       "</table>\n",
       "</div>"
      ],
      "text/plain": [
       "                           mae     family\n",
       "store_nbr item_nbr                       \n",
       "54        2013931   885.632329  BEVERAGES\n",
       "40        2060793   758.405851  BEVERAGES\n",
       "          2061214   732.722686  BEVERAGES\n",
       "31        2013931   545.863840  BEVERAGES\n",
       "40        841842    496.022836  GROCERY I"
      ]
     },
     "execution_count": 145,
     "metadata": {},
     "output_type": "execute_result"
    }
   ],
   "source": [
    "df_mae_nn.head()"
   ]
  },
  {
   "cell_type": "code",
   "execution_count": 140,
   "metadata": {},
   "outputs": [
    {
     "data": {
      "text/html": [
       "<div>\n",
       "<style scoped>\n",
       "    .dataframe tbody tr th:only-of-type {\n",
       "        vertical-align: middle;\n",
       "    }\n",
       "\n",
       "    .dataframe tbody tr th {\n",
       "        vertical-align: top;\n",
       "    }\n",
       "\n",
       "    .dataframe thead th {\n",
       "        text-align: right;\n",
       "    }\n",
       "</style>\n",
       "<table border=\"1\" class=\"dataframe\">\n",
       "  <thead>\n",
       "    <tr style=\"text-align: right;\">\n",
       "      <th></th>\n",
       "      <th></th>\n",
       "      <th>mae</th>\n",
       "      <th>family</th>\n",
       "    </tr>\n",
       "    <tr>\n",
       "      <th>store_nbr</th>\n",
       "      <th>item_nbr</th>\n",
       "      <th></th>\n",
       "      <th></th>\n",
       "    </tr>\n",
       "  </thead>\n",
       "  <tbody>\n",
       "    <tr>\n",
       "      <th>44</th>\n",
       "      <th>1503844</th>\n",
       "      <td>283.665194</td>\n",
       "      <td>PRODUCE</td>\n",
       "    </tr>\n",
       "  </tbody>\n",
       "</table>\n",
       "</div>"
      ],
      "text/plain": [
       "                           mae   family\n",
       "store_nbr item_nbr                     \n",
       "44        1503844   283.665194  PRODUCE"
      ]
     },
     "execution_count": 140,
     "metadata": {},
     "output_type": "execute_result"
    }
   ],
   "source": [
    "# PRODUCE with highest MAE for LGBM model \n",
    "df_mae_lgbm[df_mae_lgbm.family == 'PRODUCE'].iloc[[0]]"
   ]
  },
  {
   "cell_type": "code",
   "execution_count": 141,
   "metadata": {},
   "outputs": [
    {
     "data": {
      "text/html": [
       "<div>\n",
       "<style scoped>\n",
       "    .dataframe tbody tr th:only-of-type {\n",
       "        vertical-align: middle;\n",
       "    }\n",
       "\n",
       "    .dataframe tbody tr th {\n",
       "        vertical-align: top;\n",
       "    }\n",
       "\n",
       "    .dataframe thead th {\n",
       "        text-align: right;\n",
       "    }\n",
       "</style>\n",
       "<table border=\"1\" class=\"dataframe\">\n",
       "  <thead>\n",
       "    <tr style=\"text-align: right;\">\n",
       "      <th></th>\n",
       "      <th></th>\n",
       "      <th>mae</th>\n",
       "      <th>family</th>\n",
       "    </tr>\n",
       "    <tr>\n",
       "      <th>store_nbr</th>\n",
       "      <th>item_nbr</th>\n",
       "      <th></th>\n",
       "      <th></th>\n",
       "    </tr>\n",
       "  </thead>\n",
       "  <tbody>\n",
       "    <tr>\n",
       "      <th>54</th>\n",
       "      <th>2013931</th>\n",
       "      <td>882.19128</td>\n",
       "      <td>BEVERAGES</td>\n",
       "    </tr>\n",
       "  </tbody>\n",
       "</table>\n",
       "</div>"
      ],
      "text/plain": [
       "                          mae     family\n",
       "store_nbr item_nbr                      \n",
       "54        2013931   882.19128  BEVERAGES"
      ]
     },
     "execution_count": 141,
     "metadata": {},
     "output_type": "execute_result"
    }
   ],
   "source": [
    "# BEVERAGES with highest MAE  for LGBM model\n",
    "df_mae_lgbm[df_mae_lgbm.family == 'BEVERAGES'].iloc[[0]]"
   ]
  },
  {
   "cell_type": "code",
   "execution_count": 142,
   "metadata": {},
   "outputs": [
    {
     "data": {
      "text/html": [
       "<div>\n",
       "<style scoped>\n",
       "    .dataframe tbody tr th:only-of-type {\n",
       "        vertical-align: middle;\n",
       "    }\n",
       "\n",
       "    .dataframe tbody tr th {\n",
       "        vertical-align: top;\n",
       "    }\n",
       "\n",
       "    .dataframe thead th {\n",
       "        text-align: right;\n",
       "    }\n",
       "</style>\n",
       "<table border=\"1\" class=\"dataframe\">\n",
       "  <thead>\n",
       "    <tr style=\"text-align: right;\">\n",
       "      <th></th>\n",
       "      <th></th>\n",
       "      <th>mae</th>\n",
       "      <th>family</th>\n",
       "    </tr>\n",
       "    <tr>\n",
       "      <th>store_nbr</th>\n",
       "      <th>item_nbr</th>\n",
       "      <th></th>\n",
       "      <th></th>\n",
       "    </tr>\n",
       "  </thead>\n",
       "  <tbody>\n",
       "    <tr>\n",
       "      <th>20</th>\n",
       "      <th>841842</th>\n",
       "      <td>506.235593</td>\n",
       "      <td>GROCERY I</td>\n",
       "    </tr>\n",
       "  </tbody>\n",
       "</table>\n",
       "</div>"
      ],
      "text/plain": [
       "                           mae     family\n",
       "store_nbr item_nbr                       \n",
       "20        841842    506.235593  GROCERY I"
      ]
     },
     "execution_count": 142,
     "metadata": {},
     "output_type": "execute_result"
    }
   ],
   "source": [
    "# GROCERY I with highest MAE for LGBM model\n",
    "df_mae_lgbm[df_mae_lgbm.family == 'GROCERY I'].iloc[[0]]"
   ]
  },
  {
   "cell_type": "code",
   "execution_count": null,
   "metadata": {},
   "outputs": [],
   "source": []
  },
  {
   "cell_type": "code",
   "execution_count": null,
   "metadata": {},
   "outputs": [],
   "source": []
  },
  {
   "cell_type": "code",
   "execution_count": null,
   "metadata": {},
   "outputs": [],
   "source": []
  },
  {
   "cell_type": "markdown",
   "metadata": {},
   "source": [
    "### Prediction error for LGBM & NN models \n",
    "#### (positive means overprediction, negative means underprediction)"
   ]
  },
  {
   "cell_type": "code",
   "execution_count": 92,
   "metadata": {},
   "outputs": [],
   "source": [
    "df_error_lgbm = np.expm1(df_pred_lgbm) - np.expm1(df_true[pd.date_range('2017-08-01','2017-08-15')])"
   ]
  },
  {
   "cell_type": "code",
   "execution_count": 148,
   "metadata": {},
   "outputs": [
    {
     "data": {
      "text/html": [
       "<div>\n",
       "<style scoped>\n",
       "    .dataframe tbody tr th:only-of-type {\n",
       "        vertical-align: middle;\n",
       "    }\n",
       "\n",
       "    .dataframe tbody tr th {\n",
       "        vertical-align: top;\n",
       "    }\n",
       "\n",
       "    .dataframe thead th {\n",
       "        text-align: right;\n",
       "    }\n",
       "</style>\n",
       "<table border=\"1\" class=\"dataframe\">\n",
       "  <thead>\n",
       "    <tr style=\"text-align: right;\">\n",
       "      <th></th>\n",
       "      <th></th>\n",
       "      <th>2017-08-01 00:00:00</th>\n",
       "      <th>2017-08-02 00:00:00</th>\n",
       "      <th>2017-08-03 00:00:00</th>\n",
       "      <th>2017-08-04 00:00:00</th>\n",
       "      <th>2017-08-05 00:00:00</th>\n",
       "      <th>2017-08-06 00:00:00</th>\n",
       "      <th>2017-08-07 00:00:00</th>\n",
       "      <th>2017-08-08 00:00:00</th>\n",
       "      <th>2017-08-09 00:00:00</th>\n",
       "      <th>2017-08-10 00:00:00</th>\n",
       "      <th>2017-08-11 00:00:00</th>\n",
       "      <th>2017-08-12 00:00:00</th>\n",
       "      <th>2017-08-13 00:00:00</th>\n",
       "      <th>2017-08-14 00:00:00</th>\n",
       "      <th>2017-08-15 00:00:00</th>\n",
       "    </tr>\n",
       "    <tr>\n",
       "      <th>store_nbr</th>\n",
       "      <th>item_nbr</th>\n",
       "      <th></th>\n",
       "      <th></th>\n",
       "      <th></th>\n",
       "      <th></th>\n",
       "      <th></th>\n",
       "      <th></th>\n",
       "      <th></th>\n",
       "      <th></th>\n",
       "      <th></th>\n",
       "      <th></th>\n",
       "      <th></th>\n",
       "      <th></th>\n",
       "      <th></th>\n",
       "      <th></th>\n",
       "      <th></th>\n",
       "    </tr>\n",
       "  </thead>\n",
       "  <tbody>\n",
       "    <tr>\n",
       "      <th rowspan=\"5\" valign=\"top\">1</th>\n",
       "      <th>96995</th>\n",
       "      <td>0.271828</td>\n",
       "      <td>-0.732231</td>\n",
       "      <td>-1.746013</td>\n",
       "      <td>0.302798</td>\n",
       "      <td>0.304644</td>\n",
       "      <td>-1.726945</td>\n",
       "      <td>-1.752708</td>\n",
       "      <td>0.212184</td>\n",
       "      <td>0.250148</td>\n",
       "      <td>-0.789179</td>\n",
       "      <td>0.255900</td>\n",
       "      <td>0.305710</td>\n",
       "      <td>0.236841</td>\n",
       "      <td>0.230673</td>\n",
       "      <td>0.220552</td>\n",
       "    </tr>\n",
       "    <tr>\n",
       "      <th>99197</th>\n",
       "      <td>0.353969</td>\n",
       "      <td>0.421490</td>\n",
       "      <td>0.410038</td>\n",
       "      <td>0.533799</td>\n",
       "      <td>-0.437452</td>\n",
       "      <td>0.291588</td>\n",
       "      <td>-1.548808</td>\n",
       "      <td>0.427346</td>\n",
       "      <td>-1.537875</td>\n",
       "      <td>0.428180</td>\n",
       "      <td>0.536216</td>\n",
       "      <td>0.575486</td>\n",
       "      <td>0.327115</td>\n",
       "      <td>0.429325</td>\n",
       "      <td>0.442084</td>\n",
       "    </tr>\n",
       "    <tr>\n",
       "      <th>103520</th>\n",
       "      <td>-1.653271</td>\n",
       "      <td>0.516245</td>\n",
       "      <td>-0.277873</td>\n",
       "      <td>-1.346928</td>\n",
       "      <td>1.434046</td>\n",
       "      <td>0.421638</td>\n",
       "      <td>1.297106</td>\n",
       "      <td>-1.799182</td>\n",
       "      <td>1.563162</td>\n",
       "      <td>-1.347326</td>\n",
       "      <td>0.621549</td>\n",
       "      <td>0.494028</td>\n",
       "      <td>-0.521173</td>\n",
       "      <td>1.243084</td>\n",
       "      <td>1.270550</td>\n",
       "    </tr>\n",
       "    <tr>\n",
       "      <th>103665</th>\n",
       "      <td>-2.345535</td>\n",
       "      <td>-0.134560</td>\n",
       "      <td>-0.434675</td>\n",
       "      <td>-5.570900</td>\n",
       "      <td>-0.491276</td>\n",
       "      <td>-0.064043</td>\n",
       "      <td>-0.438483</td>\n",
       "      <td>1.592503</td>\n",
       "      <td>-5.254975</td>\n",
       "      <td>-7.487641</td>\n",
       "      <td>0.410331</td>\n",
       "      <td>2.498998</td>\n",
       "      <td>1.034264</td>\n",
       "      <td>0.550177</td>\n",
       "      <td>0.518945</td>\n",
       "    </tr>\n",
       "    <tr>\n",
       "      <th>105574</th>\n",
       "      <td>-2.513440</td>\n",
       "      <td>-1.676124</td>\n",
       "      <td>-0.797716</td>\n",
       "      <td>1.082749</td>\n",
       "      <td>-2.515624</td>\n",
       "      <td>1.372434</td>\n",
       "      <td>0.723175</td>\n",
       "      <td>-1.591492</td>\n",
       "      <td>0.271533</td>\n",
       "      <td>-5.220992</td>\n",
       "      <td>0.785765</td>\n",
       "      <td>-0.638600</td>\n",
       "      <td>1.581603</td>\n",
       "      <td>2.274921</td>\n",
       "      <td>1.219609</td>\n",
       "    </tr>\n",
       "  </tbody>\n",
       "</table>\n",
       "</div>"
      ],
      "text/plain": [
       "                    2017-08-01  2017-08-02  2017-08-03  2017-08-04  \\\n",
       "store_nbr item_nbr                                                   \n",
       "1         96995       0.271828   -0.732231   -1.746013    0.302798   \n",
       "          99197       0.353969    0.421490    0.410038    0.533799   \n",
       "          103520     -1.653271    0.516245   -0.277873   -1.346928   \n",
       "          103665     -2.345535   -0.134560   -0.434675   -5.570900   \n",
       "          105574     -2.513440   -1.676124   -0.797716    1.082749   \n",
       "\n",
       "                    2017-08-05  2017-08-06  2017-08-07  2017-08-08  \\\n",
       "store_nbr item_nbr                                                   \n",
       "1         96995       0.304644   -1.726945   -1.752708    0.212184   \n",
       "          99197      -0.437452    0.291588   -1.548808    0.427346   \n",
       "          103520      1.434046    0.421638    1.297106   -1.799182   \n",
       "          103665     -0.491276   -0.064043   -0.438483    1.592503   \n",
       "          105574     -2.515624    1.372434    0.723175   -1.591492   \n",
       "\n",
       "                    2017-08-09  2017-08-10  2017-08-11  2017-08-12  \\\n",
       "store_nbr item_nbr                                                   \n",
       "1         96995       0.250148   -0.789179    0.255900    0.305710   \n",
       "          99197      -1.537875    0.428180    0.536216    0.575486   \n",
       "          103520      1.563162   -1.347326    0.621549    0.494028   \n",
       "          103665     -5.254975   -7.487641    0.410331    2.498998   \n",
       "          105574      0.271533   -5.220992    0.785765   -0.638600   \n",
       "\n",
       "                    2017-08-13  2017-08-14  2017-08-15  \n",
       "store_nbr item_nbr                                      \n",
       "1         96995       0.236841    0.230673    0.220552  \n",
       "          99197       0.327115    0.429325    0.442084  \n",
       "          103520     -0.521173    1.243084    1.270550  \n",
       "          103665      1.034264    0.550177    0.518945  \n",
       "          105574      1.581603    2.274921    1.219609  "
      ]
     },
     "execution_count": 148,
     "metadata": {},
     "output_type": "execute_result"
    }
   ],
   "source": [
    "df_error_lgbm.head()"
   ]
  },
  {
   "cell_type": "code",
   "execution_count": 91,
   "metadata": {},
   "outputs": [],
   "source": [
    "df_error_nn = np.expm1(df_pred_nn) - np.expm1(df_true[pd.date_range('2017-08-01','2017-08-15')])"
   ]
  },
  {
   "cell_type": "markdown",
   "metadata": {},
   "source": [
    "### Plot sales forecasting for selected items"
   ]
  },
  {
   "cell_type": "code",
   "execution_count": 38,
   "metadata": {},
   "outputs": [],
   "source": [
    "# Create plot function\n",
    "def item_prediction_plot(store_nbr, item_nbr, fig_number = None):\n",
    "    store_nbr =store_nbr\n",
    "    item_nbr = item_nbr\n",
    "\n",
    "    temp_dict = {'Actual': np.expm1(df_true.loc[(store_nbr,item_nbr)]),\n",
    "                 'LGBM': np.expm1(df_pred_lgbm.loc[(store_nbr,item_nbr)]),\n",
    "                 'NN': np.expm1(df_pred_nn.loc[(store_nbr,item_nbr)])}\n",
    "\n",
    "    temp_df = pd.DataFrame(temp_dict)\n",
    "\n",
    "    temp_df['Actual'].plot(color='black')\n",
    "    temp_df['LGBM'].plot(color='royalblue')\n",
    "    temp_df['NN'].plot(color='orange')\n",
    "\n",
    "    plt.legend()\n",
    "    plt.ylabel('Unit Sales')\n",
    "    if fig_number == None:\n",
    "        plt.title(f'Store #{store_nbr} | Item #{item_nbr} | Family: {item_family_dict[item_nbr]}')\n",
    "    else:\n",
    "        plt.title(f'{fig_number} Store #{store_nbr} | Item #{item_nbr} | Family: {item_family_dict[item_nbr]}')"
   ]
  },
  {
   "cell_type": "code",
   "execution_count": 93,
   "metadata": {},
   "outputs": [],
   "source": [
    "out_path = '../final_report/figures/'"
   ]
  },
  {
   "cell_type": "code",
   "execution_count": 97,
   "metadata": {},
   "outputs": [],
   "source": [
    "store_item_list = [(44,314384),(45, 1004551),(54, 2013931),(22, 841842)]\n",
    "fig_number_list = list('abcd')"
   ]
  },
  {
   "cell_type": "code",
   "execution_count": 112,
   "metadata": {},
   "outputs": [
    {
     "data": {
      "image/png": "[encoded data removed]",
      "text/plain": [
       "<Figure size 864x864 with 4 Axes>"
      ]
     },
     "metadata": {
      "needs_background": "light"
     },
     "output_type": "display_data"
    }
   ],
   "source": [
    "plt.figure(figsize=(12,12))\n",
    "for i, j in enumerate(zip(store_item_list, fig_number_list),1):\n",
    "    plt.subplot(4,1,i)\n",
    "    item_prediction_plot(j[0][0], j[0][1], f'({j[1]})')\n",
    "plt.tight_layout()\n",
    "plt.savefig(out_path + 'items_pred_sales.png')\n"
   ]
  },
  {
   "cell_type": "code",
   "execution_count": 117,
   "metadata": {},
   "outputs": [
    {
     "data": {
      "text/html": [
       "<div>\n",
       "<style scoped>\n",
       "    .dataframe tbody tr th:only-of-type {\n",
       "        vertical-align: middle;\n",
       "    }\n",
       "\n",
       "    .dataframe tbody tr th {\n",
       "        vertical-align: top;\n",
       "    }\n",
       "\n",
       "    .dataframe thead th {\n",
       "        text-align: right;\n",
       "    }\n",
       "</style>\n",
       "<table border=\"1\" class=\"dataframe\">\n",
       "  <thead>\n",
       "    <tr style=\"text-align: right;\">\n",
       "      <th></th>\n",
       "      <th>item_nbr</th>\n",
       "      <th>mae</th>\n",
       "      <th>family</th>\n",
       "    </tr>\n",
       "    <tr>\n",
       "      <th>store_nbr</th>\n",
       "      <th></th>\n",
       "      <th></th>\n",
       "      <th></th>\n",
       "    </tr>\n",
       "  </thead>\n",
       "  <tbody>\n",
       "    <tr>\n",
       "      <th>54</th>\n",
       "      <td>2013931</td>\n",
       "      <td>882.191280</td>\n",
       "      <td>BEVERAGES</td>\n",
       "    </tr>\n",
       "    <tr>\n",
       "      <th>40</th>\n",
       "      <td>2060793</td>\n",
       "      <td>792.241483</td>\n",
       "      <td>BEVERAGES</td>\n",
       "    </tr>\n",
       "    <tr>\n",
       "      <th>40</th>\n",
       "      <td>2061214</td>\n",
       "      <td>773.058111</td>\n",
       "      <td>BEVERAGES</td>\n",
       "    </tr>\n",
       "    <tr>\n",
       "      <th>31</th>\n",
       "      <td>2013931</td>\n",
       "      <td>562.778418</td>\n",
       "      <td>BEVERAGES</td>\n",
       "    </tr>\n",
       "    <tr>\n",
       "      <th>20</th>\n",
       "      <td>841842</td>\n",
       "      <td>506.235593</td>\n",
       "      <td>GROCERY I</td>\n",
       "    </tr>\n",
       "  </tbody>\n",
       "</table>\n",
       "</div>"
      ],
      "text/plain": [
       "           item_nbr         mae     family\n",
       "store_nbr                                 \n",
       "54          2013931  882.191280  BEVERAGES\n",
       "40          2060793  792.241483  BEVERAGES\n",
       "40          2061214  773.058111  BEVERAGES\n",
       "31          2013931  562.778418  BEVERAGES\n",
       "20           841842  506.235593  GROCERY I"
      ]
     },
     "execution_count": 117,
     "metadata": {},
     "output_type": "execute_result"
    }
   ],
   "source": [
    "df_mae_lgbm.head()"
   ]
  },
  {
   "cell_type": "code",
   "execution_count": 113,
   "metadata": {},
   "outputs": [
    {
     "data": {
      "text/plain": [
       "[(44, 314384), (45, 1004551), (54, 2013931), (22, 841842)]"
      ]
     },
     "execution_count": 113,
     "metadata": {},
     "output_type": "execute_result"
    }
   ],
   "source": [
    "store_item_list"
   ]
  },
  {
   "cell_type": "code",
   "execution_count": 146,
   "metadata": {},
   "outputs": [
    {
     "name": "stdout",
     "output_type": "stream",
     "text": [
      "44 314384 22.691481750583883\n",
      "45 1004551 9.789402058625715\n",
      "54 2013931 882.1912802001448\n",
      "22 841842 65.320614442222\n"
     ]
    }
   ],
   "source": [
    "for store_nbr, item_nbr in store_item_list:  \n",
    "    print(store_nbr, item_nbr, df_mae_lgbm.loc[store_nbr].loc[item_nbr]['mae'])"
   ]
  },
  {
   "cell_type": "code",
   "execution_count": 147,
   "metadata": {},
   "outputs": [
    {
     "name": "stdout",
     "output_type": "stream",
     "text": [
      "44 314384 39.27022583858773\n",
      "45 1004551 9.397773301845438\n",
      "54 2013931 885.6323285316412\n",
      "22 841842 67.49453582509354\n"
     ]
    }
   ],
   "source": [
    "for store_nbr, item_nbr in store_item_list:  \n",
    "    print(store_nbr, item_nbr, df_mae_nn.loc[store_nbr].loc[item_nbr]['mae'])"
   ]
  },
  {
   "cell_type": "code",
   "execution_count": 149,
   "metadata": {},
   "outputs": [
    {
     "name": "stdout",
     "output_type": "stream",
     "text": [
      "44 314384 45.69869267654376 -45.12594084407543\n",
      "45 1004551 2.99855104143737 -28.443991578293886\n",
      "54 2013931 5.704124265313753 -2307.503708861796\n",
      "22 841842 15.053601598830262 -293.7919793423211\n"
     ]
    }
   ],
   "source": [
    "for store_nbr, item_nbr in store_item_list:  \n",
    "    print(store_nbr, item_nbr, df_error_lgbm.loc[store_nbr].loc[item_nbr].max(), df_error_lgbm.loc[store_nbr].loc[item_nbr].min())"
   ]
  },
  {
   "cell_type": "code",
   "execution_count": 150,
   "metadata": {},
   "outputs": [
    {
     "name": "stdout",
     "output_type": "stream",
     "text": [
      "44 314384 85.02831200009564 -43.42133051336668\n",
      "45 1004551 11.05590657793196 -27.164304590072067\n",
      "54 2013931 8.173007461986108 -2303.4358088090808\n",
      "22 841842 8.885134101700633 -291.49626032577083\n"
     ]
    }
   ],
   "source": [
    "for store_nbr, item_nbr in store_item_list:  \n",
    "    print(store_nbr, item_nbr, df_error_nn.loc[store_nbr].loc[item_nbr].max(), df_error_nn.loc[store_nbr].loc[item_nbr].min())"
   ]
  },
  {
   "cell_type": "markdown",
   "metadata": {},
   "source": [
    "### Feature Importance"
   ]
  },
  {
   "cell_type": "code",
   "execution_count": 154,
   "metadata": {},
   "outputs": [],
   "source": [
    "feature_importance = pd.read_csv(file_path + 'lgbm_feature_importance_model_10.csv', index_col = [0])"
   ]
  },
  {
   "cell_type": "code",
   "execution_count": 155,
   "metadata": {},
   "outputs": [
    {
     "data": {
      "text/html": [
       "<div>\n",
       "<style scoped>\n",
       "    .dataframe tbody tr th:only-of-type {\n",
       "        vertical-align: middle;\n",
       "    }\n",
       "\n",
       "    .dataframe tbody tr th {\n",
       "        vertical-align: top;\n",
       "    }\n",
       "\n",
       "    .dataframe thead th {\n",
       "        text-align: right;\n",
       "    }\n",
       "</style>\n",
       "<table border=\"1\" class=\"dataframe\">\n",
       "  <thead>\n",
       "    <tr style=\"text-align: right;\">\n",
       "      <th></th>\n",
       "      <th>2017-08-01</th>\n",
       "      <th>2017-08-02</th>\n",
       "      <th>2017-08-03</th>\n",
       "      <th>2017-08-04</th>\n",
       "      <th>2017-08-05</th>\n",
       "      <th>2017-08-06</th>\n",
       "      <th>2017-08-07</th>\n",
       "      <th>2017-08-08</th>\n",
       "      <th>2017-08-09</th>\n",
       "      <th>2017-08-10</th>\n",
       "      <th>2017-08-11</th>\n",
       "      <th>2017-08-12</th>\n",
       "      <th>2017-08-13</th>\n",
       "      <th>2017-08-14</th>\n",
       "      <th>2017-08-15</th>\n",
       "    </tr>\n",
       "  </thead>\n",
       "  <tbody>\n",
       "    <tr>\n",
       "      <th>promo_7_2017</th>\n",
       "      <td>10957.473703</td>\n",
       "      <td>8305.526307</td>\n",
       "      <td>6969.641882</td>\n",
       "      <td>4157.829033</td>\n",
       "      <td>5284.911604</td>\n",
       "      <td>2450.394011</td>\n",
       "      <td>3434.881249</td>\n",
       "      <td>3992.413832</td>\n",
       "      <td>1631.753901</td>\n",
       "      <td>2698.620080</td>\n",
       "      <td>1654.136924</td>\n",
       "      <td>979.365124</td>\n",
       "      <td>1070.548905</td>\n",
       "      <td>829.513289</td>\n",
       "      <td>789.203192</td>\n",
       "    </tr>\n",
       "    <tr>\n",
       "      <th>promo_14_2017</th>\n",
       "      <td>3165.927708</td>\n",
       "      <td>5211.479719</td>\n",
       "      <td>12837.137056</td>\n",
       "      <td>7038.337335</td>\n",
       "      <td>6366.576076</td>\n",
       "      <td>3957.843390</td>\n",
       "      <td>6677.481629</td>\n",
       "      <td>8752.307484</td>\n",
       "      <td>5997.474637</td>\n",
       "      <td>3183.866021</td>\n",
       "      <td>3572.597314</td>\n",
       "      <td>2830.796539</td>\n",
       "      <td>2798.701915</td>\n",
       "      <td>2046.579503</td>\n",
       "      <td>3009.722317</td>\n",
       "    </tr>\n",
       "    <tr>\n",
       "      <th>promo_30_2017</th>\n",
       "      <td>6600.248784</td>\n",
       "      <td>9419.263841</td>\n",
       "      <td>8954.250712</td>\n",
       "      <td>11891.898312</td>\n",
       "      <td>9366.987423</td>\n",
       "      <td>12693.674017</td>\n",
       "      <td>11850.285388</td>\n",
       "      <td>11781.735706</td>\n",
       "      <td>15478.282425</td>\n",
       "      <td>12954.910084</td>\n",
       "      <td>16947.587667</td>\n",
       "      <td>17410.365182</td>\n",
       "      <td>22331.706520</td>\n",
       "      <td>18726.696568</td>\n",
       "      <td>16300.475110</td>\n",
       "    </tr>\n",
       "    <tr>\n",
       "      <th>promo_3_2017_aft</th>\n",
       "      <td>3427.403560</td>\n",
       "      <td>3686.227166</td>\n",
       "      <td>27717.404674</td>\n",
       "      <td>42436.968797</td>\n",
       "      <td>5605.283665</td>\n",
       "      <td>7171.872671</td>\n",
       "      <td>3293.343008</td>\n",
       "      <td>3879.375785</td>\n",
       "      <td>2877.052521</td>\n",
       "      <td>1866.821472</td>\n",
       "      <td>1240.662886</td>\n",
       "      <td>1523.006091</td>\n",
       "      <td>1150.098080</td>\n",
       "      <td>1152.732296</td>\n",
       "      <td>1055.730332</td>\n",
       "    </tr>\n",
       "    <tr>\n",
       "      <th>promo_7_2017_aft</th>\n",
       "      <td>4747.993348</td>\n",
       "      <td>8404.005875</td>\n",
       "      <td>21010.595376</td>\n",
       "      <td>54148.935940</td>\n",
       "      <td>58425.491038</td>\n",
       "      <td>67618.774292</td>\n",
       "      <td>61751.914222</td>\n",
       "      <td>51722.048054</td>\n",
       "      <td>13623.404189</td>\n",
       "      <td>3688.064917</td>\n",
       "      <td>2845.210586</td>\n",
       "      <td>3769.068008</td>\n",
       "      <td>3490.352198</td>\n",
       "      <td>2079.139871</td>\n",
       "      <td>2691.662467</td>\n",
       "    </tr>\n",
       "  </tbody>\n",
       "</table>\n",
       "</div>"
      ],
      "text/plain": [
       "                    2017-08-01   2017-08-02    2017-08-03    2017-08-04  \\\n",
       "promo_7_2017      10957.473703  8305.526307   6969.641882   4157.829033   \n",
       "promo_14_2017      3165.927708  5211.479719  12837.137056   7038.337335   \n",
       "promo_30_2017      6600.248784  9419.263841   8954.250712  11891.898312   \n",
       "promo_3_2017_aft   3427.403560  3686.227166  27717.404674  42436.968797   \n",
       "promo_7_2017_aft   4747.993348  8404.005875  21010.595376  54148.935940   \n",
       "\n",
       "                    2017-08-05    2017-08-06    2017-08-07    2017-08-08  \\\n",
       "promo_7_2017       5284.911604   2450.394011   3434.881249   3992.413832   \n",
       "promo_14_2017      6366.576076   3957.843390   6677.481629   8752.307484   \n",
       "promo_30_2017      9366.987423  12693.674017  11850.285388  11781.735706   \n",
       "promo_3_2017_aft   5605.283665   7171.872671   3293.343008   3879.375785   \n",
       "promo_7_2017_aft  58425.491038  67618.774292  61751.914222  51722.048054   \n",
       "\n",
       "                    2017-08-09    2017-08-10    2017-08-11    2017-08-12  \\\n",
       "promo_7_2017       1631.753901   2698.620080   1654.136924    979.365124   \n",
       "promo_14_2017      5997.474637   3183.866021   3572.597314   2830.796539   \n",
       "promo_30_2017     15478.282425  12954.910084  16947.587667  17410.365182   \n",
       "promo_3_2017_aft   2877.052521   1866.821472   1240.662886   1523.006091   \n",
       "promo_7_2017_aft  13623.404189   3688.064917   2845.210586   3769.068008   \n",
       "\n",
       "                    2017-08-13    2017-08-14    2017-08-15  \n",
       "promo_7_2017       1070.548905    829.513289    789.203192  \n",
       "promo_14_2017      2798.701915   2046.579503   3009.722317  \n",
       "promo_30_2017     22331.706520  18726.696568  16300.475110  \n",
       "promo_3_2017_aft   1150.098080   1152.732296   1055.730332  \n",
       "promo_7_2017_aft   3490.352198   2079.139871   2691.662467  "
      ]
     },
     "execution_count": 155,
     "metadata": {},
     "output_type": "execute_result"
    }
   ],
   "source": [
    "feature_importance.head()"
   ]
  },
  {
   "cell_type": "code",
   "execution_count": 159,
   "metadata": {},
   "outputs": [],
   "source": []
  },
  {
   "cell_type": "code",
   "execution_count": 176,
   "metadata": {},
   "outputs": [
    {
     "data": {
      "image/png": "[encoded data removed]",
      "text/plain": [
       "<Figure size 864x288 with 2 Axes>"
      ]
     },
     "metadata": {
      "needs_background": "light"
     },
     "output_type": "display_data"
    }
   ],
   "source": [
    "plt.figure(figsize=(12,4))\n",
    "plt.subplot(1,2,1)\n",
    "df_temp = feature_importance['2017-08-01'].sort_values(ascending=False)[:10]\n",
    "df_temp.plot.barh(color='royalblue')\n",
    "plt.xlabel('Importance')\n",
    "plt.title('(a) Model for 2017-08-01')\n",
    "plt.subplot(1,2,2)\n",
    "df_temp = feature_importance['2017-08-13'].sort_values(ascending=False)[:10]\n",
    "df_temp.plot.barh(color='royalblue')\n",
    "plt.xlabel('Importance')\n",
    "plt.title('(b) Model for 2017-08-13')\n",
    "plt.tight_layout()\n",
    "plt.savefig(out_path + 'feature_importance.png');"
   ]
  },
  {
   "cell_type": "markdown",
   "metadata": {},
   "source": [
    "## Presentation graphs"
   ]
  },
  {
   "cell_type": "code",
   "execution_count": null,
   "metadata": {},
   "outputs": [],
   "source": [
    "store_item_list = [(44,314384),(45, 1004551),(54, 2013931),(22, 841842)]"
   ]
  },
  {
   "cell_type": "code",
   "execution_count": 178,
   "metadata": {},
   "outputs": [
    {
     "data": {
      "image/png": "[encoded data removed]",
      "text/plain": [
       "<Figure size 576x216 with 1 Axes>"
      ]
     },
     "metadata": {
      "needs_background": "light"
     },
     "output_type": "display_data"
    },
    {
     "data": {
      "image/png": "[encoded data removed]",
      "text/plain": [
       "<Figure size 576x216 with 1 Axes>"
      ]
     },
     "metadata": {
      "needs_background": "light"
     },
     "output_type": "display_data"
    },
    {
     "data": {
      "image/png": "[encoded data removed]",
      "text/plain": [
       "<Figure size 576x216 with 1 Axes>"
      ]
     },
     "metadata": {
      "needs_background": "light"
     },
     "output_type": "display_data"
    },
    {
     "data": {
      "image/png": "[encoded data removed]",
      "text/plain": [
       "<Figure size 576x216 with 1 Axes>"
      ]
     },
     "metadata": {
      "needs_background": "light"
     },
     "output_type": "display_data"
    }
   ],
   "source": [
    "for s, i in store_item_list:\n",
    "    plt.figure(figsize=(8,3))\n",
    "    item_prediction_plot(s, i)\n",
    "    plt.tight_layout()\n",
    "    plt.savefig(f'../presentation/{s}_{i}_pred.png')"
   ]
  },
  {
   "cell_type": "code",
   "execution_count": null,
   "metadata": {},
   "outputs": [],
   "source": []
  },
  {
   "cell_type": "code",
   "execution_count": null,
   "metadata": {},
   "outputs": [],
   "source": []
  },
  {
   "cell_type": "code",
   "execution_count": null,
   "metadata": {},
   "outputs": [],
   "source": []
  },
  {
   "cell_type": "code",
   "execution_count": null,
   "metadata": {},
   "outputs": [],
   "source": []
  },
  {
   "cell_type": "code",
   "execution_count": null,
   "metadata": {},
   "outputs": [],
   "source": []
  }
 ],
 "metadata": {
  "kernelspec": {
   "display_name": "Python 3",
   "language": "python",
   "name": "python3"
  },
  "language_info": {
   "codemirror_mode": {
    "name": "ipython",
    "version": 3
   },
   "file_extension": ".py",
   "mimetype": "text/x-python",
   "name": "python",
   "nbconvert_exporter": "python",
   "pygments_lexer": "ipython3",
   "version": "3.6.7"
  }
 },
 "nbformat": 4,
 "nbformat_minor": 2
}
